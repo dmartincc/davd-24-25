{
  "nbformat": 4,
  "nbformat_minor": 0,
  "metadata": {
    "colab": {
      "provenance": []
    },
    "kernelspec": {
      "name": "python3",
      "display_name": "Python 3"
    },
    "language_info": {
      "name": "python"
    }
  },
  "cells": [
    {
      "cell_type": "markdown",
      "source": [
        "# Prueba Intertrimestral\n",
        "\n",
        "**Nombre:**\n",
        "\n",
        "**Apellidos:**\n",
        "\n",
        "**Tiempo de la prueba: 2 Horas**\n",
        "\n",
        "**Asignatura:** Desarrollo de Aplicaciones para la Visualización de Datos\n",
        "\n",
        "**Fecha:** 18 de octubre de 2023\n",
        "\n",
        "**Instrucciones:**\n",
        "\n",
        "- Escribe código limpio y autoexplicativo.\n",
        "\n",
        "- Se eliminará 0.5 puntos por usar Seaborn o Matplotlib.\n",
        "\n",
        "- Se pueden utilizar los materiales de clase.\n",
        "\n",
        "- Se puede utilizar internet para búsqueda de dudas y documentación.\n",
        "\n",
        "- No se puede utilizar ningún tipo de LLM.\n",
        "\n",
        "- No se puede utilizar mensajería instantánea.\n",
        "\n",
        "- Sube tus resultados a tu repositorio de Github.\n",
        "\n",
        "- Imprime una versión en PDF en A3 y Portrait del notebook.\n",
        "\n",
        "- Envialo tus resultados a dmartincorral@icai.comillas.edu adjuntando el PDF y la url del notebook subido al repositorio de Github.\n"
      ],
      "metadata": {
        "id": "xoyr7F7GNiM6"
      }
    },
    {
      "cell_type": "markdown",
      "source": [
        "## Inicialización de librerías\n",
        "\n",
        "Carga aquí todas las librerías que vayas a utilizar."
      ],
      "metadata": {
        "id": "_yd5v77lO4fW"
      }
    },
    {
      "cell_type": "code",
      "source": [],
      "metadata": {
        "id": "xCJ9wLIePA99"
      },
      "execution_count": null,
      "outputs": []
    },
    {
      "cell_type": "markdown",
      "source": [
        "## Ejercicio 1 (2 puntos):\n",
        "\n",
        "a) Crea una función que calcule y devuelva el factorial de un número entero. **(0.6 puntos)**\n",
        "\n",
        "b) Crea una función que verifique si un número es primo o no. **(0.6 puntos)**\n",
        "\n",
        "c) Muestra en un dataframe los 50 primeros números positivos, si es primo y su factorial utilizando las funciones anteriores. **(0.6 puntos)**\n",
        "\n",
        "d) ¿Cómo se podría programar en una clase las tres operaciones anteriores? **(0.2 puntos)**"
      ],
      "metadata": {
        "id": "-DcUj8fKPD19"
      }
    },
    {
      "cell_type": "code",
      "source": [],
      "metadata": {
        "id": "IaPhSsDoSBL-"
      },
      "execution_count": null,
      "outputs": []
    },
    {
      "cell_type": "markdown",
      "source": [
        "## Ejercicio 2 (4 puntos):\n",
        "\n",
        "a) Extrae de sklearn el conjunto de datos __California Housing dataset__\n",
        " y transfórmalo a dataframe de pandas **(0.25 puntos)**\n",
        "\n",
        "b) Construye una función que muestra la estructura del dataset, el número de NAs, tipos de variables y estadísticas básicas de cada una de las variables. **(0.5 puntos)**\n",
        "\n",
        "c) Construye una __Regresión lineal__ y un __Random forest__ que predigan el __Median house value__ según los datos disponibles. **(0.75 puntos)**\n",
        "\n",
        "d) Visualiza cuales son las variables (coeficientes) más importantes en cada uno de los modelos. **(1.25 puntos)**\n",
        "\n",
        "e) Decide a través de las métricas que consideres oportunas, cuál de los dos modelos es mejor, por qué y explica el proceso que has realizado para responder en los puntos anteriores. **(1.25 puntos)**"
      ],
      "metadata": {
        "id": "91Zj0Qo6SEDO"
      }
    },
    {
      "cell_type": "code",
      "source": [],
      "metadata": {
        "id": "2Aiag2OvUDJF"
      },
      "execution_count": null,
      "outputs": []
    },
    {
      "cell_type": "markdown",
      "source": [
        "## Ejercicio 3 (4 puntos):\n"
      ],
      "metadata": {
        "id": "YhuImkegUE5a"
      }
    },
    {
      "cell_type": "markdown",
      "source": [
        "*Consideremos* el dataset que contiene __The Most Streamed Spotify Songs 2023__ que se encuentra en el respositorio.\n",
        "\n",
        "Información de las variables:\n",
        "\n",
        "- track_name: Name of the song\n",
        "- artist(s)_name: Name of the artist(s) of the song\n",
        "- vartist_count: Number of artists contributing to the song\n",
        "- released_year: Year when the song was released\n",
        "- released_month: Month when the song was released\n",
        "- release_day: Day of the month when the song was released\n",
        "- in_spotify_playlists: Number of Spotify playlists the song is included in\n",
        "- in_spotify_charts: Presence and rank of the song on Spotify charts\n",
        "- streams: Total number of streams on Spotify\n",
        "- in_apple_playlists: Number of Apple Music playlists the song is included in\n",
        "- in_apple_charts: Presence and rank of the song on Apple Music charts\n",
        "- in_deezer_playlists: Number of Deezer playlists the song is included in\n",
        "- in_deezer_charts: Presence and rank of the song on Deezer charts\n",
        "- in_shazam_charts: Presence and rank of the song on Shazam charts\n",
        "- bpm: Beats per minute, a measure of song tempo\n",
        "- key: Key of the song\n",
        "- mode: Mode of the song (major or minor)\n",
        "- danceability_%: Percentage indicating how suitable the song is for dancing\n",
        "- valence_%: Positivity of the song's musical content\n",
        "- energy_%: Perceived energy level of the song\n",
        "- acousticness_%: Amount of acoustic sound in the song\n",
        "- instrumentalness_%: Amount of instrumental content in the song\n",
        "- liveness_%: Presence of live performance elements\n",
        "- speechiness_%: Amount of spoken words in the song\n",
        "\n",
        "Para las respuestas b, c, d, e, f y g es imperativo acompañarlas respuestas con una visualización.\n",
        "\n",
        "a) Lee el fichero en formato dataframe, aplica la función del ejercicio 2.b, elimina NAs y convierte a integer si fuera necesario. **(0.25 puntos)**\n",
        "\n",
        "b) ¿Cuántos artistas únicos hay? **(0.25 puntos)**\n",
        "\n",
        "c) ¿Cuál es la distribución de reproducciones? **(0.5 puntos)**\n",
        "\n",
        "d) ¿Existe una diferencia signitificativa en las reproducciones entre las canciones de un solo artista y las de más de uno? **(0.5 puntos)**\n",
        "\n",
        "e) ¿Cuáles son las propiedades de una canción que mejor correlan con el número de reproducciones de una canción? **(0.5 puntos)**\n",
        "\n",
        "f) ¿Cuáles son las variables que mejor predicen las canciones que están por encima el percentil 50? **(1 puntos)**\n",
        "\n",
        "*Nota: Crea una variable binaria (Hit/No Hit) en base a 3.c, crea una regresión logística y visualiza sus coeficientes.*\n",
        "\n",
        "g) Agrupa los 4 gráficos realizados en uno solo y haz una recomendación a un sello discográfico para producir un nuevo hit. **(1 puntos)**\n"
      ],
      "metadata": {
        "id": "kUZlJzRKU1p0"
      }
    },
    {
      "cell_type": "code",
      "source": [],
      "metadata": {
        "id": "nN73ExlTmNE_"
      },
      "execution_count": null,
      "outputs": []
    }
  ]
}