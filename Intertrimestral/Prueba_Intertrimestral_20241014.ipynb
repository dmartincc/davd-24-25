{
  "nbformat": 4,
  "nbformat_minor": 0,
  "metadata": {
    "colab": {
      "provenance": []
    },
    "kernelspec": {
      "name": "python3",
      "display_name": "Python 3"
    },
    "language_info": {
      "name": "python"
    }
  },
  "cells": [
    {
      "cell_type": "markdown",
      "source": [
        "# Prueba Intertrimestral\n",
        "\n",
        "Nombre y Apellidos:\n",
        "\n",
        "Tiempo de la prueba: 1h y 45 mins\n",
        "\n",
        "Asignatura: Desarrollo de Aplicaciones para la Visualización de Datos\n",
        "\n",
        "Fecha: 14 de octubre de 2024\n",
        "\n",
        "Instrucciones:\n",
        "\n",
        "- Herramientas Sugeridas: Python (pandas, matplotlib, seaborn, scikit-learn).\n",
        "\n",
        "- Evaluación: Se valorará la capacidad para interpretar los resultados y la claridad en la exposición de las conclusiones.\n",
        "\n",
        "- Materiales permitidos: Materiales de clase. Internet para búsqueda de dudas y documentación.\n",
        "\n",
        "- Prohibido: Mingún tipo de LLM, ni mensajería instantánea.\n",
        "\n",
        "- Formato de Entrega: Los estudiantes deben presentar su trabajo en formato de notebook (por ejemplo, Jupyter Notebook), con gráficos y explicaciones detalladas.\n",
        "\n",
        "- Entrega: Subir .ipynb y PDF a Github. Enviar resultados al siguiente enlace. Para crear PDF: File -> Print -> Destination as PDF\n",
        "\n",
        "## [Entrega aquí el examen](https://forms.gle/gU7aKkzE7didZpYV7)\n",
        "\n",
        "\n"
      ],
      "metadata": {
        "id": "88Sou7SHHd_R"
      }
    },
    {
      "cell_type": "markdown",
      "source": [
        "Carga aquí las librerías que creas que vayas a utilizar:"
      ],
      "metadata": {
        "id": "pUwXXeE2Hdls"
      }
    },
    {
      "cell_type": "code",
      "source": [],
      "metadata": {
        "id": "sDeaGenSMpiA"
      },
      "execution_count": null,
      "outputs": []
    },
    {
      "cell_type": "markdown",
      "source": [
        "# Ejercicio 1: Programación (2 puntos)\n",
        "\n",
        "a) Crea una función que calcule y devuelva el valor de la iteración $n+1$ del mapa logístico dada la fórmula:\n",
        "\n",
        "$x_{n+1}=r⋅x_n⋅(1−x_n)$\n",
        "\n",
        "donde:\n",
        "\n",
        "- $r$ es la tasa de crecimiento\n",
        "- $x_n$ es el valor de la iteración anterior.\n",
        "\n",
        "La función debe aceptar como parámetros $r$ y $x_n$ (valor inicial). (0.6 puntos)\n"
      ],
      "metadata": {
        "id": "0xueu6PRIPRY"
      }
    },
    {
      "cell_type": "code",
      "source": [],
      "metadata": {
        "id": "IBKpNT1xIPBv"
      },
      "execution_count": null,
      "outputs": []
    },
    {
      "cell_type": "markdown",
      "source": [
        "b) Crea una función que genere una lista con las primeras n iteraciones del mapa logístico, utilizando la función anterior. (0.6 puntos)"
      ],
      "metadata": {
        "id": "pZRyqLY1JHjB"
      }
    },
    {
      "cell_type": "code",
      "execution_count": null,
      "metadata": {
        "id": "t_vZFPcCHa-B"
      },
      "outputs": [],
      "source": []
    },
    {
      "cell_type": "markdown",
      "source": [
        "c) Guarda en un dataframe las iteraciones del mapa logístico, para $r = \\{0, 0.25, 0.5, 0.75, \\dots, 4\\}$ y semilla $x_0 = 0.2$. El dataframe debe tener tres columnas: $r$, $n$ y $x_{n+1}$. Muestra los 10 primeros resultados (0.6 puntos)"
      ],
      "metadata": {
        "id": "NUjP9f38JPKw"
      }
    },
    {
      "cell_type": "code",
      "source": [],
      "metadata": {
        "id": "lq3ZBPJNJizC"
      },
      "execution_count": null,
      "outputs": []
    },
    {
      "cell_type": "markdown",
      "source": [
        "d) ¿Cómo se podría programar en una clase las dos funciones anteriores para calcular y almacenar iteraciones del mapa logístico? Proporciona la implementación de la clase con un método para obtener el valor de una iteración específica, otro método para generar la lista completa de iteraciones y otro para crear un gráfico que visualice el $r$ y $x_{n+1}$. (0.2 puntos)"
      ],
      "metadata": {
        "id": "beRXaA63Hcqy"
      }
    },
    {
      "cell_type": "code",
      "source": [],
      "metadata": {
        "id": "t8QzMql1J9ys"
      },
      "execution_count": null,
      "outputs": []
    },
    {
      "cell_type": "markdown",
      "source": [
        "# Ejercicio 2: Exploración y comprensión (3 puntos)\n",
        "\n",
        "a) Describe las principales variables del dataset proporcionado. ¿Qué información aportan y qué tipo de datos contiene cada una? ¿Existen valores faltantes en el dataset? Si es así, ¿en qué variables? ¿Qué propones para resolverlo? (1 puntos)\n"
      ],
      "metadata": {
        "id": "FJpVCuaYKu8h"
      }
    },
    {
      "cell_type": "code",
      "source": [],
      "metadata": {
        "id": "lXPpo8qfLFqm"
      },
      "execution_count": null,
      "outputs": []
    },
    {
      "cell_type": "markdown",
      "source": [
        "b) Realiza un gráfico de barras que responda las siguientes preguntas. ¿Cuántas tiendas $Store$ están presentes en el dataset? ¿Cuál es la media de ventas semanales $Weekly Sales$ por tienda? ¿Qué tiendas tienen las ventas promedio más altas y más bajas? (1 puntos)\n",
        "\n"
      ],
      "metadata": {
        "id": "hcWrbBn5LbFk"
      }
    },
    {
      "cell_type": "code",
      "source": [],
      "metadata": {
        "id": "1dvF3cSGLjK9"
      },
      "execution_count": null,
      "outputs": []
    },
    {
      "cell_type": "markdown",
      "source": [
        "c) Genera un gráfico de líneas que muestre la evolución de las ventas semanales $Weekly Sales$ a lo largo del tiempo para la tienda con más ventas totales. ¿Observas algún patrón estacional o tendencia? (1 puntos)"
      ],
      "metadata": {
        "id": "Br4zIJh_L47b"
      }
    },
    {
      "cell_type": "code",
      "source": [],
      "metadata": {
        "id": "5idHf3MKL7Pw"
      },
      "execution_count": null,
      "outputs": []
    },
    {
      "cell_type": "markdown",
      "source": [
        "# Ejrcicio 3: Análisis de Factores Externos (2 puntos)\n",
        "\n",
        "a) Explora la relación entre el precio de combustible $Fuel Price$, la tasa de desempleo $Unemployment$ y las ventas semanales $Weekly Sales$. ¿Existe alguna correlación significativa? Genera dos gráficos de dispersión (scatter plot) para ilustrarlo. (1 puntos)"
      ],
      "metadata": {
        "id": "zS6fasRVMXEx"
      }
    },
    {
      "cell_type": "code",
      "source": [],
      "metadata": {
        "id": "lWrImgylMnTH"
      },
      "execution_count": null,
      "outputs": []
    },
    {
      "cell_type": "markdown",
      "source": [
        "c) Compara las ventas promedio de las semanas festivas $Holiday Flag = 1$ con las semanas no festivas $Holiday Flag = 0$. ¿Cuál es la diferencia promedio de ventas entre estos dos tipos de semanas? ¿Existe una diferencia estdísticamente significativa? (1 puntos)\n"
      ],
      "metadata": {
        "id": "tNsV143ZM_e5"
      }
    },
    {
      "cell_type": "code",
      "source": [],
      "metadata": {
        "id": "k6PIqCkxNPIC"
      },
      "execution_count": null,
      "outputs": []
    },
    {
      "cell_type": "markdown",
      "source": [
        "# Ejercicio 4: Modelado predictivo (2 puntos)\n",
        "\n",
        "a) Encuentra el mejor modelo de regresión lineal para predecir las ventas semanales $Weekly Sales$ en función de las variables disponibles. Prueba múltiples combinaciones de variables. (1.5 puntos)\n"
      ],
      "metadata": {
        "id": "RBs_xZCbNV2a"
      }
    },
    {
      "cell_type": "code",
      "source": [],
      "metadata": {
        "id": "NFpU2OaWNrL7"
      },
      "execution_count": null,
      "outputs": []
    },
    {
      "cell_type": "markdown",
      "source": [
        "b) Compara los modelos evalúando el R² y el error cuadrático medio (MSE). ¿Cuál es el modelo con mejores métricas? (0.5 puntos)\n"
      ],
      "metadata": {
        "id": "mGA7Ob_kNrnO"
      }
    },
    {
      "cell_type": "code",
      "source": [],
      "metadata": {
        "id": "FMHMy3pMOK91"
      },
      "execution_count": null,
      "outputs": []
    },
    {
      "cell_type": "markdown",
      "source": [
        "# Ejercicio 5: Conclusiones y Recomendaciones (1 punto)\n",
        "\n",
        "a) Redacta un informe de máximo 500 palabras resumiendo los principales hallazgos del análisis de datos y la modelización. Incluye tus conclusiones sobre qué factores influyen más en las ventas y recomendaciones para la empresa basadas en el análisis."
      ],
      "metadata": {
        "id": "QkfgUE26OL3M"
      }
    },
    {
      "cell_type": "code",
      "source": [],
      "metadata": {
        "id": "nTsGlQS9VFND"
      },
      "execution_count": null,
      "outputs": []
    }
  ]
}