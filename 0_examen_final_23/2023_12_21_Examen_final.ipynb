{
  "nbformat": 4,
  "nbformat_minor": 0,
  "metadata": {
    "colab": {
      "provenance": []
    },
    "kernelspec": {
      "name": "python3",
      "display_name": "Python 3"
    },
    "language_info": {
      "name": "python"
    }
  },
  "cells": [
    {
      "cell_type": "markdown",
      "source": [
        "# **Examen final de Desarrollo de Aplicaciones para la Visualización de Datos**\n",
        "\n",
        "Nombre:\n",
        "\n",
        "Apellidos:\n",
        "\n",
        "Tiempo: *2 horas y 30 minutos*\n",
        "\n",
        "## **Contexto del ejercicio**\n",
        "\n",
        "Un banco portugues desea entender en más detalle las campañas de marketing directo que ha realizado en los últimos meses a más de 40 mil clientes. Las campañas de marketing se basaron en llamadas telefónicas. Muchas veces era necesario más de un contacto con un mismo cliente, para saber si el producto (depósito bancario) sería ('sí') o no ('no') contratado.\n",
        "\n",
        "El objetivo del análisis es buscar patrones para entender mejor que tipo de perfil tienen los clientes que han contratado el depósito para buscar en su base de datos otros clientes parecidos para aumentar la respuesta y el ROI de futuras campañas de marketing directo intentando vender el mismo depósito. Por lo tanto, se pide:\n",
        "\n",
        "1.  Realizar un análisis descriptivo de los datos con al menos, 6 visualizaciones diferentes. (3 Puntos) (*)\n",
        "\n",
        "2.  Montar un dashboard con al menos, 4 visualizaciones diferentes, que incluyan 2 componentes interactivas y 1 callback (5 Puntos) (*)\n",
        "\n",
        "3. Concluir todo este análisis haciendo recomendaciones para la mejora de futuras campañas de contacto directo a partir de los resultados obtenidos de los análisis realizados con los datos. (2 Puntos)\n",
        "\n",
        "Para realizar este análisis se provee de un juego de datos con las siguientes variables:\n",
        "\n",
        "- age\t- Edad (numérica)\n",
        "- job - Ocupación (categórica)\n",
        "- marital - Estado civil (categórica)\n",
        "- education - Nivel educativo (categórica)\n",
        "- default - ¿Tiene algún prestamo en default? (binaria)\n",
        "- balance - Balance medio anual en euros (numérica)\n",
        "- housing - ¿Tiene una hipoteca? (binaria)\n",
        "- loan -  ¿Tiene un prestamo personal? (binaria)\n",
        "- contact - Tipo de contacto (categórica)\n",
        "- day_of_week - Último día de la semana que fue contactado (fecha)\n",
        "- month - Último mes que fue contactado (fecha)\n",
        "- duration - Duración de la última vez que fue contactado en segundos (entera)\n",
        "- campaign - Número de veces que fue contactado (numérica)\n",
        "- pdays - Número de días que pasaron después de que el cliente fue contactado por última vez desde una campaña anterior (numérica; -1 significa que el cliente no fue contactado previamente)\n",
        "- previous - Número de contactos realizados durante esta campaña y para este cliente (numérica, incluye el último contacto)\n",
        "- poutcome - Resultado de la campaña de marketing anterior (categórica; 'failure','nonexistent','success')\n",
        "- y - El cliente ha contratado el depósito (binaria, yes, no)\n",
        "\n",
        "Recuerda, si tuvieras que programar una función, comenta los argumentos de entrada y salida. **Explica el orden que estás siguiendo a la hora de elegir las visualizaciones y comenta las conclusiones que vas sacando.**\n",
        "\n",
        "\n",
        "**(*) IMPORTANTE**: Puedes elegir realizar un modelo de clasificación y realizar visualizaciones en torno a ese modelo en los primeros dos apartados. Esta parte no es obligatoria. El objetivo de la clasificación sería predecir si el cliente se suscribirá a un depósito bancario (variable y).\n",
        "\n",
        "\n",
        "\n",
        "\n",
        "\n",
        "\n",
        "\n",
        "Link para subir el examen: https://forms.gle/s17BAfVwQcJ9pKRH7",
        "\n",
        "### **Librerías necesarias**"
      ],
      "metadata": {
        "id": "-jVZHRA_wmM4"
      }
    },
    {
      "cell_type": "code",
      "execution_count": null,
      "metadata": {
        "id": "3-9aR1CEwkO_"
      },
      "outputs": [],
      "source": []
    },
    {
      "cell_type": "markdown",
      "source": [
        "### **Análisis descriptivos**"
      ],
      "metadata": {
        "id": "NMIreawR26aN"
      }
    },
    {
      "cell_type": "code",
      "source": [],
      "metadata": {
        "id": "Pv0fcsGX25t_"
      },
      "execution_count": null,
      "outputs": []
    },
    {
      "cell_type": "markdown",
      "source": [],
      "metadata": {
        "id": "2PFxIf3Gwleu"
      }
    }
  ]
}