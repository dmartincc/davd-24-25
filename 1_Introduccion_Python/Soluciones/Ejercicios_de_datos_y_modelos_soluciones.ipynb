{
  "nbformat": 4,
  "nbformat_minor": 0,
  "metadata": {
    "colab": {
      "provenance": []
    },
    "kernelspec": {
      "name": "python3",
      "display_name": "Python 3"
    },
    "language_info": {
      "name": "python"
    }
  },
  "cells": [
    {
      "cell_type": "markdown",
      "source": [
        "# Lectura de datos y creación de modelos de ML\n",
        "\n",
        "## E1: Lectura y escritura de csv\n",
        "\n",
        "A. Lee el fichero de airport.csv a partir de una ruta relativa o absoluta.\n",
        "\n",
        "B. Exporta ese fichero en diferentes formatos (json, excel).\n",
        "\n",
        "C. Crea una función que pueda leer cualquiera de los tres formatos indicándole, al menos, la ruta del fichero.\n",
        "\n"
      ],
      "metadata": {
        "id": "TmtKyLSc728w"
      }
    },
    {
      "cell_type": "code",
      "source": [
        "import pandas as pd\n",
        "import numpy as np\n",
        "import"
      ],
      "metadata": {
        "id": "HpsDGvG08JcI"
      },
      "execution_count": 1,
      "outputs": []
    },
    {
      "cell_type": "markdown",
      "source": [
        "A. Lee el fichero de airport.csv a partir de una ruta relativa o absoluta."
      ],
      "metadata": {
        "id": "7E6_Pi0T8gG4"
      }
    },
    {
      "cell_type": "code",
      "source": [
        "df = pd.read_csv(\"https://raw.githubusercontent.com/tidyverse/nycflights13/main/data-raw/airports.csv\")\n",
        "df.head()"
      ],
      "metadata": {
        "colab": {
          "base_uri": "https://localhost:8080/",
          "height": 206
        },
        "id": "JDgdZtHL8LqO",
        "outputId": "601e144e-22e3-43be-8b71-dea7a9e62949"
      },
      "execution_count": 4,
      "outputs": [
        {
          "output_type": "execute_result",
          "data": {
            "text/plain": [
              "   faa                           name        lat        lon   alt  tz dst  \\\n",
              "0  04G              Lansdowne Airport  41.130472 -80.619583  1044  -5   A   \n",
              "1  06A  Moton Field Municipal Airport  32.460572 -85.680028   264  -6   A   \n",
              "2  06C            Schaumburg Regional  41.989341 -88.101243   801  -6   A   \n",
              "3  06N                Randall Airport  41.431912 -74.391561   523  -5   A   \n",
              "4  09J          Jekyll Island Airport  31.074472 -81.427778    11  -5   A   \n",
              "\n",
              "              tzone  \n",
              "0  America/New_York  \n",
              "1   America/Chicago  \n",
              "2   America/Chicago  \n",
              "3  America/New_York  \n",
              "4  America/New_York  "
            ],
            "text/html": [
              "\n",
              "  <div id=\"df-16dfddcc-43da-4657-867d-16075c3b4ff1\" class=\"colab-df-container\">\n",
              "    <div>\n",
              "<style scoped>\n",
              "    .dataframe tbody tr th:only-of-type {\n",
              "        vertical-align: middle;\n",
              "    }\n",
              "\n",
              "    .dataframe tbody tr th {\n",
              "        vertical-align: top;\n",
              "    }\n",
              "\n",
              "    .dataframe thead th {\n",
              "        text-align: right;\n",
              "    }\n",
              "</style>\n",
              "<table border=\"1\" class=\"dataframe\">\n",
              "  <thead>\n",
              "    <tr style=\"text-align: right;\">\n",
              "      <th></th>\n",
              "      <th>faa</th>\n",
              "      <th>name</th>\n",
              "      <th>lat</th>\n",
              "      <th>lon</th>\n",
              "      <th>alt</th>\n",
              "      <th>tz</th>\n",
              "      <th>dst</th>\n",
              "      <th>tzone</th>\n",
              "    </tr>\n",
              "  </thead>\n",
              "  <tbody>\n",
              "    <tr>\n",
              "      <th>0</th>\n",
              "      <td>04G</td>\n",
              "      <td>Lansdowne Airport</td>\n",
              "      <td>41.130472</td>\n",
              "      <td>-80.619583</td>\n",
              "      <td>1044</td>\n",
              "      <td>-5</td>\n",
              "      <td>A</td>\n",
              "      <td>America/New_York</td>\n",
              "    </tr>\n",
              "    <tr>\n",
              "      <th>1</th>\n",
              "      <td>06A</td>\n",
              "      <td>Moton Field Municipal Airport</td>\n",
              "      <td>32.460572</td>\n",
              "      <td>-85.680028</td>\n",
              "      <td>264</td>\n",
              "      <td>-6</td>\n",
              "      <td>A</td>\n",
              "      <td>America/Chicago</td>\n",
              "    </tr>\n",
              "    <tr>\n",
              "      <th>2</th>\n",
              "      <td>06C</td>\n",
              "      <td>Schaumburg Regional</td>\n",
              "      <td>41.989341</td>\n",
              "      <td>-88.101243</td>\n",
              "      <td>801</td>\n",
              "      <td>-6</td>\n",
              "      <td>A</td>\n",
              "      <td>America/Chicago</td>\n",
              "    </tr>\n",
              "    <tr>\n",
              "      <th>3</th>\n",
              "      <td>06N</td>\n",
              "      <td>Randall Airport</td>\n",
              "      <td>41.431912</td>\n",
              "      <td>-74.391561</td>\n",
              "      <td>523</td>\n",
              "      <td>-5</td>\n",
              "      <td>A</td>\n",
              "      <td>America/New_York</td>\n",
              "    </tr>\n",
              "    <tr>\n",
              "      <th>4</th>\n",
              "      <td>09J</td>\n",
              "      <td>Jekyll Island Airport</td>\n",
              "      <td>31.074472</td>\n",
              "      <td>-81.427778</td>\n",
              "      <td>11</td>\n",
              "      <td>-5</td>\n",
              "      <td>A</td>\n",
              "      <td>America/New_York</td>\n",
              "    </tr>\n",
              "  </tbody>\n",
              "</table>\n",
              "</div>\n",
              "    <div class=\"colab-df-buttons\">\n",
              "\n",
              "  <div class=\"colab-df-container\">\n",
              "    <button class=\"colab-df-convert\" onclick=\"convertToInteractive('df-16dfddcc-43da-4657-867d-16075c3b4ff1')\"\n",
              "            title=\"Convert this dataframe to an interactive table.\"\n",
              "            style=\"display:none;\">\n",
              "\n",
              "  <svg xmlns=\"http://www.w3.org/2000/svg\" height=\"24px\" viewBox=\"0 -960 960 960\">\n",
              "    <path d=\"M120-120v-720h720v720H120Zm60-500h600v-160H180v160Zm220 220h160v-160H400v160Zm0 220h160v-160H400v160ZM180-400h160v-160H180v160Zm440 0h160v-160H620v160ZM180-180h160v-160H180v160Zm440 0h160v-160H620v160Z\"/>\n",
              "  </svg>\n",
              "    </button>\n",
              "\n",
              "  <style>\n",
              "    .colab-df-container {\n",
              "      display:flex;\n",
              "      gap: 12px;\n",
              "    }\n",
              "\n",
              "    .colab-df-convert {\n",
              "      background-color: #E8F0FE;\n",
              "      border: none;\n",
              "      border-radius: 50%;\n",
              "      cursor: pointer;\n",
              "      display: none;\n",
              "      fill: #1967D2;\n",
              "      height: 32px;\n",
              "      padding: 0 0 0 0;\n",
              "      width: 32px;\n",
              "    }\n",
              "\n",
              "    .colab-df-convert:hover {\n",
              "      background-color: #E2EBFA;\n",
              "      box-shadow: 0px 1px 2px rgba(60, 64, 67, 0.3), 0px 1px 3px 1px rgba(60, 64, 67, 0.15);\n",
              "      fill: #174EA6;\n",
              "    }\n",
              "\n",
              "    .colab-df-buttons div {\n",
              "      margin-bottom: 4px;\n",
              "    }\n",
              "\n",
              "    [theme=dark] .colab-df-convert {\n",
              "      background-color: #3B4455;\n",
              "      fill: #D2E3FC;\n",
              "    }\n",
              "\n",
              "    [theme=dark] .colab-df-convert:hover {\n",
              "      background-color: #434B5C;\n",
              "      box-shadow: 0px 1px 3px 1px rgba(0, 0, 0, 0.15);\n",
              "      filter: drop-shadow(0px 1px 2px rgba(0, 0, 0, 0.3));\n",
              "      fill: #FFFFFF;\n",
              "    }\n",
              "  </style>\n",
              "\n",
              "    <script>\n",
              "      const buttonEl =\n",
              "        document.querySelector('#df-16dfddcc-43da-4657-867d-16075c3b4ff1 button.colab-df-convert');\n",
              "      buttonEl.style.display =\n",
              "        google.colab.kernel.accessAllowed ? 'block' : 'none';\n",
              "\n",
              "      async function convertToInteractive(key) {\n",
              "        const element = document.querySelector('#df-16dfddcc-43da-4657-867d-16075c3b4ff1');\n",
              "        const dataTable =\n",
              "          await google.colab.kernel.invokeFunction('convertToInteractive',\n",
              "                                                    [key], {});\n",
              "        if (!dataTable) return;\n",
              "\n",
              "        const docLinkHtml = 'Like what you see? Visit the ' +\n",
              "          '<a target=\"_blank\" href=https://colab.research.google.com/notebooks/data_table.ipynb>data table notebook</a>'\n",
              "          + ' to learn more about interactive tables.';\n",
              "        element.innerHTML = '';\n",
              "        dataTable['output_type'] = 'display_data';\n",
              "        await google.colab.output.renderOutput(dataTable, element);\n",
              "        const docLink = document.createElement('div');\n",
              "        docLink.innerHTML = docLinkHtml;\n",
              "        element.appendChild(docLink);\n",
              "      }\n",
              "    </script>\n",
              "  </div>\n",
              "\n",
              "\n",
              "<div id=\"df-ea61a36e-a9c1-42a1-a159-1218f23c6a6a\">\n",
              "  <button class=\"colab-df-quickchart\" onclick=\"quickchart('df-ea61a36e-a9c1-42a1-a159-1218f23c6a6a')\"\n",
              "            title=\"Suggest charts.\"\n",
              "            style=\"display:none;\">\n",
              "\n",
              "<svg xmlns=\"http://www.w3.org/2000/svg\" height=\"24px\"viewBox=\"0 0 24 24\"\n",
              "     width=\"24px\">\n",
              "    <g>\n",
              "        <path d=\"M19 3H5c-1.1 0-2 .9-2 2v14c0 1.1.9 2 2 2h14c1.1 0 2-.9 2-2V5c0-1.1-.9-2-2-2zM9 17H7v-7h2v7zm4 0h-2V7h2v10zm4 0h-2v-4h2v4z\"/>\n",
              "    </g>\n",
              "</svg>\n",
              "  </button>\n",
              "\n",
              "<style>\n",
              "  .colab-df-quickchart {\n",
              "      --bg-color: #E8F0FE;\n",
              "      --fill-color: #1967D2;\n",
              "      --hover-bg-color: #E2EBFA;\n",
              "      --hover-fill-color: #174EA6;\n",
              "      --disabled-fill-color: #AAA;\n",
              "      --disabled-bg-color: #DDD;\n",
              "  }\n",
              "\n",
              "  [theme=dark] .colab-df-quickchart {\n",
              "      --bg-color: #3B4455;\n",
              "      --fill-color: #D2E3FC;\n",
              "      --hover-bg-color: #434B5C;\n",
              "      --hover-fill-color: #FFFFFF;\n",
              "      --disabled-bg-color: #3B4455;\n",
              "      --disabled-fill-color: #666;\n",
              "  }\n",
              "\n",
              "  .colab-df-quickchart {\n",
              "    background-color: var(--bg-color);\n",
              "    border: none;\n",
              "    border-radius: 50%;\n",
              "    cursor: pointer;\n",
              "    display: none;\n",
              "    fill: var(--fill-color);\n",
              "    height: 32px;\n",
              "    padding: 0;\n",
              "    width: 32px;\n",
              "  }\n",
              "\n",
              "  .colab-df-quickchart:hover {\n",
              "    background-color: var(--hover-bg-color);\n",
              "    box-shadow: 0 1px 2px rgba(60, 64, 67, 0.3), 0 1px 3px 1px rgba(60, 64, 67, 0.15);\n",
              "    fill: var(--button-hover-fill-color);\n",
              "  }\n",
              "\n",
              "  .colab-df-quickchart-complete:disabled,\n",
              "  .colab-df-quickchart-complete:disabled:hover {\n",
              "    background-color: var(--disabled-bg-color);\n",
              "    fill: var(--disabled-fill-color);\n",
              "    box-shadow: none;\n",
              "  }\n",
              "\n",
              "  .colab-df-spinner {\n",
              "    border: 2px solid var(--fill-color);\n",
              "    border-color: transparent;\n",
              "    border-bottom-color: var(--fill-color);\n",
              "    animation:\n",
              "      spin 1s steps(1) infinite;\n",
              "  }\n",
              "\n",
              "  @keyframes spin {\n",
              "    0% {\n",
              "      border-color: transparent;\n",
              "      border-bottom-color: var(--fill-color);\n",
              "      border-left-color: var(--fill-color);\n",
              "    }\n",
              "    20% {\n",
              "      border-color: transparent;\n",
              "      border-left-color: var(--fill-color);\n",
              "      border-top-color: var(--fill-color);\n",
              "    }\n",
              "    30% {\n",
              "      border-color: transparent;\n",
              "      border-left-color: var(--fill-color);\n",
              "      border-top-color: var(--fill-color);\n",
              "      border-right-color: var(--fill-color);\n",
              "    }\n",
              "    40% {\n",
              "      border-color: transparent;\n",
              "      border-right-color: var(--fill-color);\n",
              "      border-top-color: var(--fill-color);\n",
              "    }\n",
              "    60% {\n",
              "      border-color: transparent;\n",
              "      border-right-color: var(--fill-color);\n",
              "    }\n",
              "    80% {\n",
              "      border-color: transparent;\n",
              "      border-right-color: var(--fill-color);\n",
              "      border-bottom-color: var(--fill-color);\n",
              "    }\n",
              "    90% {\n",
              "      border-color: transparent;\n",
              "      border-bottom-color: var(--fill-color);\n",
              "    }\n",
              "  }\n",
              "</style>\n",
              "\n",
              "  <script>\n",
              "    async function quickchart(key) {\n",
              "      const quickchartButtonEl =\n",
              "        document.querySelector('#' + key + ' button');\n",
              "      quickchartButtonEl.disabled = true;  // To prevent multiple clicks.\n",
              "      quickchartButtonEl.classList.add('colab-df-spinner');\n",
              "      try {\n",
              "        const charts = await google.colab.kernel.invokeFunction(\n",
              "            'suggestCharts', [key], {});\n",
              "      } catch (error) {\n",
              "        console.error('Error during call to suggestCharts:', error);\n",
              "      }\n",
              "      quickchartButtonEl.classList.remove('colab-df-spinner');\n",
              "      quickchartButtonEl.classList.add('colab-df-quickchart-complete');\n",
              "    }\n",
              "    (() => {\n",
              "      let quickchartButtonEl =\n",
              "        document.querySelector('#df-ea61a36e-a9c1-42a1-a159-1218f23c6a6a button');\n",
              "      quickchartButtonEl.style.display =\n",
              "        google.colab.kernel.accessAllowed ? 'block' : 'none';\n",
              "    })();\n",
              "  </script>\n",
              "</div>\n",
              "    </div>\n",
              "  </div>\n"
            ]
          },
          "metadata": {},
          "execution_count": 4
        }
      ]
    },
    {
      "cell_type": "markdown",
      "source": [
        "B. Exporta ese fichero en diferentes formatos (json, excel).\n"
      ],
      "metadata": {
        "id": "d5f-IKrc8fLG"
      }
    },
    {
      "cell_type": "code",
      "source": [
        "df.to_csv('airports.csv')\n",
        "df.to_json('airports.json')\n",
        "df.to_excel('airports.xlsx')"
      ],
      "metadata": {
        "id": "BVHE9oYa8Le0"
      },
      "execution_count": 7,
      "outputs": []
    },
    {
      "cell_type": "markdown",
      "source": [
        "C. Crea una función que pueda leer cualquiera de los tres formatos indicándole, al menos, la ruta del fichero."
      ],
      "metadata": {
        "id": "TuYNrrRV9JNb"
      }
    },
    {
      "cell_type": "code",
      "source": [
        "def readFile(filename = str):\n",
        "  extension = filename.split('.')[1]\n",
        "  df = pd.DataFrame()\n",
        "  match extension:\n",
        "    case 'csv':\n",
        "      df = pd.read_csv(filename)\n",
        "    case 'json':\n",
        "      df = pd.read_json(filename)\n",
        "    case 'xlsx':\n",
        "      df = pd.read_excel(filename)\n",
        "    case _:\n",
        "      print(\"Extension is incorrent\")\n",
        "\n",
        "  return df\n",
        "\n",
        "df = readFile('airports.csv')\n",
        "df.head()\n",
        "df = readFile('airports.json')\n",
        "df.head()\n",
        "df = readFile('airports.xlsx')\n",
        "df.head()"
      ],
      "metadata": {
        "colab": {
          "base_uri": "https://localhost:8080/",
          "height": 206
        },
        "id": "rjyQkr4t9LxK",
        "outputId": "98589714-847c-40a4-ae16-0a6358a64eb2"
      },
      "execution_count": 13,
      "outputs": [
        {
          "output_type": "execute_result",
          "data": {
            "text/plain": [
              "   Unnamed: 0  faa                           name        lat        lon   alt  \\\n",
              "0           0  04G              Lansdowne Airport  41.130472 -80.619583  1044   \n",
              "1           1  06A  Moton Field Municipal Airport  32.460572 -85.680028   264   \n",
              "2           2  06C            Schaumburg Regional  41.989341 -88.101243   801   \n",
              "3           3  06N                Randall Airport  41.431912 -74.391561   523   \n",
              "4           4  09J          Jekyll Island Airport  31.074472 -81.427778    11   \n",
              "\n",
              "   tz dst             tzone  \n",
              "0  -5   A  America/New_York  \n",
              "1  -6   A   America/Chicago  \n",
              "2  -6   A   America/Chicago  \n",
              "3  -5   A  America/New_York  \n",
              "4  -5   A  America/New_York  "
            ],
            "text/html": [
              "\n",
              "  <div id=\"df-4d023d0e-9d0c-42c8-a586-81037c395036\" class=\"colab-df-container\">\n",
              "    <div>\n",
              "<style scoped>\n",
              "    .dataframe tbody tr th:only-of-type {\n",
              "        vertical-align: middle;\n",
              "    }\n",
              "\n",
              "    .dataframe tbody tr th {\n",
              "        vertical-align: top;\n",
              "    }\n",
              "\n",
              "    .dataframe thead th {\n",
              "        text-align: right;\n",
              "    }\n",
              "</style>\n",
              "<table border=\"1\" class=\"dataframe\">\n",
              "  <thead>\n",
              "    <tr style=\"text-align: right;\">\n",
              "      <th></th>\n",
              "      <th>Unnamed: 0</th>\n",
              "      <th>faa</th>\n",
              "      <th>name</th>\n",
              "      <th>lat</th>\n",
              "      <th>lon</th>\n",
              "      <th>alt</th>\n",
              "      <th>tz</th>\n",
              "      <th>dst</th>\n",
              "      <th>tzone</th>\n",
              "    </tr>\n",
              "  </thead>\n",
              "  <tbody>\n",
              "    <tr>\n",
              "      <th>0</th>\n",
              "      <td>0</td>\n",
              "      <td>04G</td>\n",
              "      <td>Lansdowne Airport</td>\n",
              "      <td>41.130472</td>\n",
              "      <td>-80.619583</td>\n",
              "      <td>1044</td>\n",
              "      <td>-5</td>\n",
              "      <td>A</td>\n",
              "      <td>America/New_York</td>\n",
              "    </tr>\n",
              "    <tr>\n",
              "      <th>1</th>\n",
              "      <td>1</td>\n",
              "      <td>06A</td>\n",
              "      <td>Moton Field Municipal Airport</td>\n",
              "      <td>32.460572</td>\n",
              "      <td>-85.680028</td>\n",
              "      <td>264</td>\n",
              "      <td>-6</td>\n",
              "      <td>A</td>\n",
              "      <td>America/Chicago</td>\n",
              "    </tr>\n",
              "    <tr>\n",
              "      <th>2</th>\n",
              "      <td>2</td>\n",
              "      <td>06C</td>\n",
              "      <td>Schaumburg Regional</td>\n",
              "      <td>41.989341</td>\n",
              "      <td>-88.101243</td>\n",
              "      <td>801</td>\n",
              "      <td>-6</td>\n",
              "      <td>A</td>\n",
              "      <td>America/Chicago</td>\n",
              "    </tr>\n",
              "    <tr>\n",
              "      <th>3</th>\n",
              "      <td>3</td>\n",
              "      <td>06N</td>\n",
              "      <td>Randall Airport</td>\n",
              "      <td>41.431912</td>\n",
              "      <td>-74.391561</td>\n",
              "      <td>523</td>\n",
              "      <td>-5</td>\n",
              "      <td>A</td>\n",
              "      <td>America/New_York</td>\n",
              "    </tr>\n",
              "    <tr>\n",
              "      <th>4</th>\n",
              "      <td>4</td>\n",
              "      <td>09J</td>\n",
              "      <td>Jekyll Island Airport</td>\n",
              "      <td>31.074472</td>\n",
              "      <td>-81.427778</td>\n",
              "      <td>11</td>\n",
              "      <td>-5</td>\n",
              "      <td>A</td>\n",
              "      <td>America/New_York</td>\n",
              "    </tr>\n",
              "  </tbody>\n",
              "</table>\n",
              "</div>\n",
              "    <div class=\"colab-df-buttons\">\n",
              "\n",
              "  <div class=\"colab-df-container\">\n",
              "    <button class=\"colab-df-convert\" onclick=\"convertToInteractive('df-4d023d0e-9d0c-42c8-a586-81037c395036')\"\n",
              "            title=\"Convert this dataframe to an interactive table.\"\n",
              "            style=\"display:none;\">\n",
              "\n",
              "  <svg xmlns=\"http://www.w3.org/2000/svg\" height=\"24px\" viewBox=\"0 -960 960 960\">\n",
              "    <path d=\"M120-120v-720h720v720H120Zm60-500h600v-160H180v160Zm220 220h160v-160H400v160Zm0 220h160v-160H400v160ZM180-400h160v-160H180v160Zm440 0h160v-160H620v160ZM180-180h160v-160H180v160Zm440 0h160v-160H620v160Z\"/>\n",
              "  </svg>\n",
              "    </button>\n",
              "\n",
              "  <style>\n",
              "    .colab-df-container {\n",
              "      display:flex;\n",
              "      gap: 12px;\n",
              "    }\n",
              "\n",
              "    .colab-df-convert {\n",
              "      background-color: #E8F0FE;\n",
              "      border: none;\n",
              "      border-radius: 50%;\n",
              "      cursor: pointer;\n",
              "      display: none;\n",
              "      fill: #1967D2;\n",
              "      height: 32px;\n",
              "      padding: 0 0 0 0;\n",
              "      width: 32px;\n",
              "    }\n",
              "\n",
              "    .colab-df-convert:hover {\n",
              "      background-color: #E2EBFA;\n",
              "      box-shadow: 0px 1px 2px rgba(60, 64, 67, 0.3), 0px 1px 3px 1px rgba(60, 64, 67, 0.15);\n",
              "      fill: #174EA6;\n",
              "    }\n",
              "\n",
              "    .colab-df-buttons div {\n",
              "      margin-bottom: 4px;\n",
              "    }\n",
              "\n",
              "    [theme=dark] .colab-df-convert {\n",
              "      background-color: #3B4455;\n",
              "      fill: #D2E3FC;\n",
              "    }\n",
              "\n",
              "    [theme=dark] .colab-df-convert:hover {\n",
              "      background-color: #434B5C;\n",
              "      box-shadow: 0px 1px 3px 1px rgba(0, 0, 0, 0.15);\n",
              "      filter: drop-shadow(0px 1px 2px rgba(0, 0, 0, 0.3));\n",
              "      fill: #FFFFFF;\n",
              "    }\n",
              "  </style>\n",
              "\n",
              "    <script>\n",
              "      const buttonEl =\n",
              "        document.querySelector('#df-4d023d0e-9d0c-42c8-a586-81037c395036 button.colab-df-convert');\n",
              "      buttonEl.style.display =\n",
              "        google.colab.kernel.accessAllowed ? 'block' : 'none';\n",
              "\n",
              "      async function convertToInteractive(key) {\n",
              "        const element = document.querySelector('#df-4d023d0e-9d0c-42c8-a586-81037c395036');\n",
              "        const dataTable =\n",
              "          await google.colab.kernel.invokeFunction('convertToInteractive',\n",
              "                                                    [key], {});\n",
              "        if (!dataTable) return;\n",
              "\n",
              "        const docLinkHtml = 'Like what you see? Visit the ' +\n",
              "          '<a target=\"_blank\" href=https://colab.research.google.com/notebooks/data_table.ipynb>data table notebook</a>'\n",
              "          + ' to learn more about interactive tables.';\n",
              "        element.innerHTML = '';\n",
              "        dataTable['output_type'] = 'display_data';\n",
              "        await google.colab.output.renderOutput(dataTable, element);\n",
              "        const docLink = document.createElement('div');\n",
              "        docLink.innerHTML = docLinkHtml;\n",
              "        element.appendChild(docLink);\n",
              "      }\n",
              "    </script>\n",
              "  </div>\n",
              "\n",
              "\n",
              "<div id=\"df-cce79745-9a58-443e-94ab-282441ca8c9e\">\n",
              "  <button class=\"colab-df-quickchart\" onclick=\"quickchart('df-cce79745-9a58-443e-94ab-282441ca8c9e')\"\n",
              "            title=\"Suggest charts.\"\n",
              "            style=\"display:none;\">\n",
              "\n",
              "<svg xmlns=\"http://www.w3.org/2000/svg\" height=\"24px\"viewBox=\"0 0 24 24\"\n",
              "     width=\"24px\">\n",
              "    <g>\n",
              "        <path d=\"M19 3H5c-1.1 0-2 .9-2 2v14c0 1.1.9 2 2 2h14c1.1 0 2-.9 2-2V5c0-1.1-.9-2-2-2zM9 17H7v-7h2v7zm4 0h-2V7h2v10zm4 0h-2v-4h2v4z\"/>\n",
              "    </g>\n",
              "</svg>\n",
              "  </button>\n",
              "\n",
              "<style>\n",
              "  .colab-df-quickchart {\n",
              "      --bg-color: #E8F0FE;\n",
              "      --fill-color: #1967D2;\n",
              "      --hover-bg-color: #E2EBFA;\n",
              "      --hover-fill-color: #174EA6;\n",
              "      --disabled-fill-color: #AAA;\n",
              "      --disabled-bg-color: #DDD;\n",
              "  }\n",
              "\n",
              "  [theme=dark] .colab-df-quickchart {\n",
              "      --bg-color: #3B4455;\n",
              "      --fill-color: #D2E3FC;\n",
              "      --hover-bg-color: #434B5C;\n",
              "      --hover-fill-color: #FFFFFF;\n",
              "      --disabled-bg-color: #3B4455;\n",
              "      --disabled-fill-color: #666;\n",
              "  }\n",
              "\n",
              "  .colab-df-quickchart {\n",
              "    background-color: var(--bg-color);\n",
              "    border: none;\n",
              "    border-radius: 50%;\n",
              "    cursor: pointer;\n",
              "    display: none;\n",
              "    fill: var(--fill-color);\n",
              "    height: 32px;\n",
              "    padding: 0;\n",
              "    width: 32px;\n",
              "  }\n",
              "\n",
              "  .colab-df-quickchart:hover {\n",
              "    background-color: var(--hover-bg-color);\n",
              "    box-shadow: 0 1px 2px rgba(60, 64, 67, 0.3), 0 1px 3px 1px rgba(60, 64, 67, 0.15);\n",
              "    fill: var(--button-hover-fill-color);\n",
              "  }\n",
              "\n",
              "  .colab-df-quickchart-complete:disabled,\n",
              "  .colab-df-quickchart-complete:disabled:hover {\n",
              "    background-color: var(--disabled-bg-color);\n",
              "    fill: var(--disabled-fill-color);\n",
              "    box-shadow: none;\n",
              "  }\n",
              "\n",
              "  .colab-df-spinner {\n",
              "    border: 2px solid var(--fill-color);\n",
              "    border-color: transparent;\n",
              "    border-bottom-color: var(--fill-color);\n",
              "    animation:\n",
              "      spin 1s steps(1) infinite;\n",
              "  }\n",
              "\n",
              "  @keyframes spin {\n",
              "    0% {\n",
              "      border-color: transparent;\n",
              "      border-bottom-color: var(--fill-color);\n",
              "      border-left-color: var(--fill-color);\n",
              "    }\n",
              "    20% {\n",
              "      border-color: transparent;\n",
              "      border-left-color: var(--fill-color);\n",
              "      border-top-color: var(--fill-color);\n",
              "    }\n",
              "    30% {\n",
              "      border-color: transparent;\n",
              "      border-left-color: var(--fill-color);\n",
              "      border-top-color: var(--fill-color);\n",
              "      border-right-color: var(--fill-color);\n",
              "    }\n",
              "    40% {\n",
              "      border-color: transparent;\n",
              "      border-right-color: var(--fill-color);\n",
              "      border-top-color: var(--fill-color);\n",
              "    }\n",
              "    60% {\n",
              "      border-color: transparent;\n",
              "      border-right-color: var(--fill-color);\n",
              "    }\n",
              "    80% {\n",
              "      border-color: transparent;\n",
              "      border-right-color: var(--fill-color);\n",
              "      border-bottom-color: var(--fill-color);\n",
              "    }\n",
              "    90% {\n",
              "      border-color: transparent;\n",
              "      border-bottom-color: var(--fill-color);\n",
              "    }\n",
              "  }\n",
              "</style>\n",
              "\n",
              "  <script>\n",
              "    async function quickchart(key) {\n",
              "      const quickchartButtonEl =\n",
              "        document.querySelector('#' + key + ' button');\n",
              "      quickchartButtonEl.disabled = true;  // To prevent multiple clicks.\n",
              "      quickchartButtonEl.classList.add('colab-df-spinner');\n",
              "      try {\n",
              "        const charts = await google.colab.kernel.invokeFunction(\n",
              "            'suggestCharts', [key], {});\n",
              "      } catch (error) {\n",
              "        console.error('Error during call to suggestCharts:', error);\n",
              "      }\n",
              "      quickchartButtonEl.classList.remove('colab-df-spinner');\n",
              "      quickchartButtonEl.classList.add('colab-df-quickchart-complete');\n",
              "    }\n",
              "    (() => {\n",
              "      let quickchartButtonEl =\n",
              "        document.querySelector('#df-cce79745-9a58-443e-94ab-282441ca8c9e button');\n",
              "      quickchartButtonEl.style.display =\n",
              "        google.colab.kernel.accessAllowed ? 'block' : 'none';\n",
              "    })();\n",
              "  </script>\n",
              "</div>\n",
              "    </div>\n",
              "  </div>\n"
            ]
          },
          "metadata": {},
          "execution_count": 13
        }
      ]
    },
    {
      "cell_type": "markdown",
      "source": [
        "## E2: Carga de fichero con variable categórica y crear modelo de clasificación.\n",
        "\n",
        "A. Descarga de la librería sklearn el fichero de datos de load_breast_cancer.\n",
        "\n",
        "B. Pasa ese fichero a formato dataframe incluyendo el target\n",
        "\n",
        "C. Crea un modelo de clasificación usando la técnica que prefieras dentro de Sklearn.\n",
        "\n",
        "D. Evalúa el modelo."
      ],
      "metadata": {
        "id": "iWFeVVXI-uRC"
      }
    },
    {
      "cell_type": "code",
      "source": [
        "import sklearn.datasets\n",
        "\n",
        "from sklearn.model_selection import train_test_split\n",
        "from sklearn.svm import LinearSVC\n",
        "from sklearn.metrics import (\n",
        "  classification_report,\n",
        "  confusion_matrix\n",
        ")\n",
        "\n",
        "from sklearn.linear_model import SGDClassifier, LogisticRegression"
      ],
      "metadata": {
        "id": "c8up3xqa--HN"
      },
      "execution_count": 35,
      "outputs": []
    },
    {
      "cell_type": "markdown",
      "source": [
        "A. Descarga de la librería sklearn el fichero de datos de load_breast_cancer."
      ],
      "metadata": {
        "id": "iPYvNdSr_I8W"
      }
    },
    {
      "cell_type": "code",
      "source": [
        "dataset = sklearn.datasets.load_breast_cancer()"
      ],
      "metadata": {
        "id": "Bw5rBXT6_U1r"
      },
      "execution_count": 15,
      "outputs": []
    },
    {
      "cell_type": "markdown",
      "source": [
        "B. Pasa ese fichero a formato dataframe incluyendo el target\n"
      ],
      "metadata": {
        "id": "V1tn-AJv_VnM"
      }
    },
    {
      "cell_type": "code",
      "source": [
        "df = pd.DataFrame(data = dataset['data'], columns = dataset['feature_names'])\n",
        "df[\"target\"] = dataset[\"target\"]\n",
        "\n",
        "print(df.shape)\n",
        "df.head()"
      ],
      "metadata": {
        "colab": {
          "base_uri": "https://localhost:8080/",
          "height": 308
        },
        "id": "gUtYKPKT_JuV",
        "outputId": "550690cc-a50c-418c-c141-5adde0b4314c"
      },
      "execution_count": 33,
      "outputs": [
        {
          "output_type": "stream",
          "name": "stdout",
          "text": [
            "(569, 31)\n"
          ]
        },
        {
          "output_type": "execute_result",
          "data": {
            "text/plain": [
              "   mean radius  mean texture  mean perimeter  mean area  mean smoothness  \\\n",
              "0        17.99         10.38          122.80     1001.0          0.11840   \n",
              "1        20.57         17.77          132.90     1326.0          0.08474   \n",
              "2        19.69         21.25          130.00     1203.0          0.10960   \n",
              "3        11.42         20.38           77.58      386.1          0.14250   \n",
              "4        20.29         14.34          135.10     1297.0          0.10030   \n",
              "\n",
              "   mean compactness  mean concavity  mean concave points  mean symmetry  \\\n",
              "0           0.27760          0.3001              0.14710         0.2419   \n",
              "1           0.07864          0.0869              0.07017         0.1812   \n",
              "2           0.15990          0.1974              0.12790         0.2069   \n",
              "3           0.28390          0.2414              0.10520         0.2597   \n",
              "4           0.13280          0.1980              0.10430         0.1809   \n",
              "\n",
              "   mean fractal dimension  ...  worst texture  worst perimeter  worst area  \\\n",
              "0                 0.07871  ...          17.33           184.60      2019.0   \n",
              "1                 0.05667  ...          23.41           158.80      1956.0   \n",
              "2                 0.05999  ...          25.53           152.50      1709.0   \n",
              "3                 0.09744  ...          26.50            98.87       567.7   \n",
              "4                 0.05883  ...          16.67           152.20      1575.0   \n",
              "\n",
              "   worst smoothness  worst compactness  worst concavity  worst concave points  \\\n",
              "0            0.1622             0.6656           0.7119                0.2654   \n",
              "1            0.1238             0.1866           0.2416                0.1860   \n",
              "2            0.1444             0.4245           0.4504                0.2430   \n",
              "3            0.2098             0.8663           0.6869                0.2575   \n",
              "4            0.1374             0.2050           0.4000                0.1625   \n",
              "\n",
              "   worst symmetry  worst fractal dimension  target  \n",
              "0          0.4601                  0.11890       0  \n",
              "1          0.2750                  0.08902       0  \n",
              "2          0.3613                  0.08758       0  \n",
              "3          0.6638                  0.17300       0  \n",
              "4          0.2364                  0.07678       0  \n",
              "\n",
              "[5 rows x 31 columns]"
            ],
            "text/html": [
              "\n",
              "  <div id=\"df-ecbe62c0-1ba9-4232-8f47-a1e4cb9ef1cb\" class=\"colab-df-container\">\n",
              "    <div>\n",
              "<style scoped>\n",
              "    .dataframe tbody tr th:only-of-type {\n",
              "        vertical-align: middle;\n",
              "    }\n",
              "\n",
              "    .dataframe tbody tr th {\n",
              "        vertical-align: top;\n",
              "    }\n",
              "\n",
              "    .dataframe thead th {\n",
              "        text-align: right;\n",
              "    }\n",
              "</style>\n",
              "<table border=\"1\" class=\"dataframe\">\n",
              "  <thead>\n",
              "    <tr style=\"text-align: right;\">\n",
              "      <th></th>\n",
              "      <th>mean radius</th>\n",
              "      <th>mean texture</th>\n",
              "      <th>mean perimeter</th>\n",
              "      <th>mean area</th>\n",
              "      <th>mean smoothness</th>\n",
              "      <th>mean compactness</th>\n",
              "      <th>mean concavity</th>\n",
              "      <th>mean concave points</th>\n",
              "      <th>mean symmetry</th>\n",
              "      <th>mean fractal dimension</th>\n",
              "      <th>...</th>\n",
              "      <th>worst texture</th>\n",
              "      <th>worst perimeter</th>\n",
              "      <th>worst area</th>\n",
              "      <th>worst smoothness</th>\n",
              "      <th>worst compactness</th>\n",
              "      <th>worst concavity</th>\n",
              "      <th>worst concave points</th>\n",
              "      <th>worst symmetry</th>\n",
              "      <th>worst fractal dimension</th>\n",
              "      <th>target</th>\n",
              "    </tr>\n",
              "  </thead>\n",
              "  <tbody>\n",
              "    <tr>\n",
              "      <th>0</th>\n",
              "      <td>17.99</td>\n",
              "      <td>10.38</td>\n",
              "      <td>122.80</td>\n",
              "      <td>1001.0</td>\n",
              "      <td>0.11840</td>\n",
              "      <td>0.27760</td>\n",
              "      <td>0.3001</td>\n",
              "      <td>0.14710</td>\n",
              "      <td>0.2419</td>\n",
              "      <td>0.07871</td>\n",
              "      <td>...</td>\n",
              "      <td>17.33</td>\n",
              "      <td>184.60</td>\n",
              "      <td>2019.0</td>\n",
              "      <td>0.1622</td>\n",
              "      <td>0.6656</td>\n",
              "      <td>0.7119</td>\n",
              "      <td>0.2654</td>\n",
              "      <td>0.4601</td>\n",
              "      <td>0.11890</td>\n",
              "      <td>0</td>\n",
              "    </tr>\n",
              "    <tr>\n",
              "      <th>1</th>\n",
              "      <td>20.57</td>\n",
              "      <td>17.77</td>\n",
              "      <td>132.90</td>\n",
              "      <td>1326.0</td>\n",
              "      <td>0.08474</td>\n",
              "      <td>0.07864</td>\n",
              "      <td>0.0869</td>\n",
              "      <td>0.07017</td>\n",
              "      <td>0.1812</td>\n",
              "      <td>0.05667</td>\n",
              "      <td>...</td>\n",
              "      <td>23.41</td>\n",
              "      <td>158.80</td>\n",
              "      <td>1956.0</td>\n",
              "      <td>0.1238</td>\n",
              "      <td>0.1866</td>\n",
              "      <td>0.2416</td>\n",
              "      <td>0.1860</td>\n",
              "      <td>0.2750</td>\n",
              "      <td>0.08902</td>\n",
              "      <td>0</td>\n",
              "    </tr>\n",
              "    <tr>\n",
              "      <th>2</th>\n",
              "      <td>19.69</td>\n",
              "      <td>21.25</td>\n",
              "      <td>130.00</td>\n",
              "      <td>1203.0</td>\n",
              "      <td>0.10960</td>\n",
              "      <td>0.15990</td>\n",
              "      <td>0.1974</td>\n",
              "      <td>0.12790</td>\n",
              "      <td>0.2069</td>\n",
              "      <td>0.05999</td>\n",
              "      <td>...</td>\n",
              "      <td>25.53</td>\n",
              "      <td>152.50</td>\n",
              "      <td>1709.0</td>\n",
              "      <td>0.1444</td>\n",
              "      <td>0.4245</td>\n",
              "      <td>0.4504</td>\n",
              "      <td>0.2430</td>\n",
              "      <td>0.3613</td>\n",
              "      <td>0.08758</td>\n",
              "      <td>0</td>\n",
              "    </tr>\n",
              "    <tr>\n",
              "      <th>3</th>\n",
              "      <td>11.42</td>\n",
              "      <td>20.38</td>\n",
              "      <td>77.58</td>\n",
              "      <td>386.1</td>\n",
              "      <td>0.14250</td>\n",
              "      <td>0.28390</td>\n",
              "      <td>0.2414</td>\n",
              "      <td>0.10520</td>\n",
              "      <td>0.2597</td>\n",
              "      <td>0.09744</td>\n",
              "      <td>...</td>\n",
              "      <td>26.50</td>\n",
              "      <td>98.87</td>\n",
              "      <td>567.7</td>\n",
              "      <td>0.2098</td>\n",
              "      <td>0.8663</td>\n",
              "      <td>0.6869</td>\n",
              "      <td>0.2575</td>\n",
              "      <td>0.6638</td>\n",
              "      <td>0.17300</td>\n",
              "      <td>0</td>\n",
              "    </tr>\n",
              "    <tr>\n",
              "      <th>4</th>\n",
              "      <td>20.29</td>\n",
              "      <td>14.34</td>\n",
              "      <td>135.10</td>\n",
              "      <td>1297.0</td>\n",
              "      <td>0.10030</td>\n",
              "      <td>0.13280</td>\n",
              "      <td>0.1980</td>\n",
              "      <td>0.10430</td>\n",
              "      <td>0.1809</td>\n",
              "      <td>0.05883</td>\n",
              "      <td>...</td>\n",
              "      <td>16.67</td>\n",
              "      <td>152.20</td>\n",
              "      <td>1575.0</td>\n",
              "      <td>0.1374</td>\n",
              "      <td>0.2050</td>\n",
              "      <td>0.4000</td>\n",
              "      <td>0.1625</td>\n",
              "      <td>0.2364</td>\n",
              "      <td>0.07678</td>\n",
              "      <td>0</td>\n",
              "    </tr>\n",
              "  </tbody>\n",
              "</table>\n",
              "<p>5 rows × 31 columns</p>\n",
              "</div>\n",
              "    <div class=\"colab-df-buttons\">\n",
              "\n",
              "  <div class=\"colab-df-container\">\n",
              "    <button class=\"colab-df-convert\" onclick=\"convertToInteractive('df-ecbe62c0-1ba9-4232-8f47-a1e4cb9ef1cb')\"\n",
              "            title=\"Convert this dataframe to an interactive table.\"\n",
              "            style=\"display:none;\">\n",
              "\n",
              "  <svg xmlns=\"http://www.w3.org/2000/svg\" height=\"24px\" viewBox=\"0 -960 960 960\">\n",
              "    <path d=\"M120-120v-720h720v720H120Zm60-500h600v-160H180v160Zm220 220h160v-160H400v160Zm0 220h160v-160H400v160ZM180-400h160v-160H180v160Zm440 0h160v-160H620v160ZM180-180h160v-160H180v160Zm440 0h160v-160H620v160Z\"/>\n",
              "  </svg>\n",
              "    </button>\n",
              "\n",
              "  <style>\n",
              "    .colab-df-container {\n",
              "      display:flex;\n",
              "      gap: 12px;\n",
              "    }\n",
              "\n",
              "    .colab-df-convert {\n",
              "      background-color: #E8F0FE;\n",
              "      border: none;\n",
              "      border-radius: 50%;\n",
              "      cursor: pointer;\n",
              "      display: none;\n",
              "      fill: #1967D2;\n",
              "      height: 32px;\n",
              "      padding: 0 0 0 0;\n",
              "      width: 32px;\n",
              "    }\n",
              "\n",
              "    .colab-df-convert:hover {\n",
              "      background-color: #E2EBFA;\n",
              "      box-shadow: 0px 1px 2px rgba(60, 64, 67, 0.3), 0px 1px 3px 1px rgba(60, 64, 67, 0.15);\n",
              "      fill: #174EA6;\n",
              "    }\n",
              "\n",
              "    .colab-df-buttons div {\n",
              "      margin-bottom: 4px;\n",
              "    }\n",
              "\n",
              "    [theme=dark] .colab-df-convert {\n",
              "      background-color: #3B4455;\n",
              "      fill: #D2E3FC;\n",
              "    }\n",
              "\n",
              "    [theme=dark] .colab-df-convert:hover {\n",
              "      background-color: #434B5C;\n",
              "      box-shadow: 0px 1px 3px 1px rgba(0, 0, 0, 0.15);\n",
              "      filter: drop-shadow(0px 1px 2px rgba(0, 0, 0, 0.3));\n",
              "      fill: #FFFFFF;\n",
              "    }\n",
              "  </style>\n",
              "\n",
              "    <script>\n",
              "      const buttonEl =\n",
              "        document.querySelector('#df-ecbe62c0-1ba9-4232-8f47-a1e4cb9ef1cb button.colab-df-convert');\n",
              "      buttonEl.style.display =\n",
              "        google.colab.kernel.accessAllowed ? 'block' : 'none';\n",
              "\n",
              "      async function convertToInteractive(key) {\n",
              "        const element = document.querySelector('#df-ecbe62c0-1ba9-4232-8f47-a1e4cb9ef1cb');\n",
              "        const dataTable =\n",
              "          await google.colab.kernel.invokeFunction('convertToInteractive',\n",
              "                                                    [key], {});\n",
              "        if (!dataTable) return;\n",
              "\n",
              "        const docLinkHtml = 'Like what you see? Visit the ' +\n",
              "          '<a target=\"_blank\" href=https://colab.research.google.com/notebooks/data_table.ipynb>data table notebook</a>'\n",
              "          + ' to learn more about interactive tables.';\n",
              "        element.innerHTML = '';\n",
              "        dataTable['output_type'] = 'display_data';\n",
              "        await google.colab.output.renderOutput(dataTable, element);\n",
              "        const docLink = document.createElement('div');\n",
              "        docLink.innerHTML = docLinkHtml;\n",
              "        element.appendChild(docLink);\n",
              "      }\n",
              "    </script>\n",
              "  </div>\n",
              "\n",
              "\n",
              "<div id=\"df-8b0ddc39-7508-4f5f-aa9b-aba588ead607\">\n",
              "  <button class=\"colab-df-quickchart\" onclick=\"quickchart('df-8b0ddc39-7508-4f5f-aa9b-aba588ead607')\"\n",
              "            title=\"Suggest charts.\"\n",
              "            style=\"display:none;\">\n",
              "\n",
              "<svg xmlns=\"http://www.w3.org/2000/svg\" height=\"24px\"viewBox=\"0 0 24 24\"\n",
              "     width=\"24px\">\n",
              "    <g>\n",
              "        <path d=\"M19 3H5c-1.1 0-2 .9-2 2v14c0 1.1.9 2 2 2h14c1.1 0 2-.9 2-2V5c0-1.1-.9-2-2-2zM9 17H7v-7h2v7zm4 0h-2V7h2v10zm4 0h-2v-4h2v4z\"/>\n",
              "    </g>\n",
              "</svg>\n",
              "  </button>\n",
              "\n",
              "<style>\n",
              "  .colab-df-quickchart {\n",
              "      --bg-color: #E8F0FE;\n",
              "      --fill-color: #1967D2;\n",
              "      --hover-bg-color: #E2EBFA;\n",
              "      --hover-fill-color: #174EA6;\n",
              "      --disabled-fill-color: #AAA;\n",
              "      --disabled-bg-color: #DDD;\n",
              "  }\n",
              "\n",
              "  [theme=dark] .colab-df-quickchart {\n",
              "      --bg-color: #3B4455;\n",
              "      --fill-color: #D2E3FC;\n",
              "      --hover-bg-color: #434B5C;\n",
              "      --hover-fill-color: #FFFFFF;\n",
              "      --disabled-bg-color: #3B4455;\n",
              "      --disabled-fill-color: #666;\n",
              "  }\n",
              "\n",
              "  .colab-df-quickchart {\n",
              "    background-color: var(--bg-color);\n",
              "    border: none;\n",
              "    border-radius: 50%;\n",
              "    cursor: pointer;\n",
              "    display: none;\n",
              "    fill: var(--fill-color);\n",
              "    height: 32px;\n",
              "    padding: 0;\n",
              "    width: 32px;\n",
              "  }\n",
              "\n",
              "  .colab-df-quickchart:hover {\n",
              "    background-color: var(--hover-bg-color);\n",
              "    box-shadow: 0 1px 2px rgba(60, 64, 67, 0.3), 0 1px 3px 1px rgba(60, 64, 67, 0.15);\n",
              "    fill: var(--button-hover-fill-color);\n",
              "  }\n",
              "\n",
              "  .colab-df-quickchart-complete:disabled,\n",
              "  .colab-df-quickchart-complete:disabled:hover {\n",
              "    background-color: var(--disabled-bg-color);\n",
              "    fill: var(--disabled-fill-color);\n",
              "    box-shadow: none;\n",
              "  }\n",
              "\n",
              "  .colab-df-spinner {\n",
              "    border: 2px solid var(--fill-color);\n",
              "    border-color: transparent;\n",
              "    border-bottom-color: var(--fill-color);\n",
              "    animation:\n",
              "      spin 1s steps(1) infinite;\n",
              "  }\n",
              "\n",
              "  @keyframes spin {\n",
              "    0% {\n",
              "      border-color: transparent;\n",
              "      border-bottom-color: var(--fill-color);\n",
              "      border-left-color: var(--fill-color);\n",
              "    }\n",
              "    20% {\n",
              "      border-color: transparent;\n",
              "      border-left-color: var(--fill-color);\n",
              "      border-top-color: var(--fill-color);\n",
              "    }\n",
              "    30% {\n",
              "      border-color: transparent;\n",
              "      border-left-color: var(--fill-color);\n",
              "      border-top-color: var(--fill-color);\n",
              "      border-right-color: var(--fill-color);\n",
              "    }\n",
              "    40% {\n",
              "      border-color: transparent;\n",
              "      border-right-color: var(--fill-color);\n",
              "      border-top-color: var(--fill-color);\n",
              "    }\n",
              "    60% {\n",
              "      border-color: transparent;\n",
              "      border-right-color: var(--fill-color);\n",
              "    }\n",
              "    80% {\n",
              "      border-color: transparent;\n",
              "      border-right-color: var(--fill-color);\n",
              "      border-bottom-color: var(--fill-color);\n",
              "    }\n",
              "    90% {\n",
              "      border-color: transparent;\n",
              "      border-bottom-color: var(--fill-color);\n",
              "    }\n",
              "  }\n",
              "</style>\n",
              "\n",
              "  <script>\n",
              "    async function quickchart(key) {\n",
              "      const quickchartButtonEl =\n",
              "        document.querySelector('#' + key + ' button');\n",
              "      quickchartButtonEl.disabled = true;  // To prevent multiple clicks.\n",
              "      quickchartButtonEl.classList.add('colab-df-spinner');\n",
              "      try {\n",
              "        const charts = await google.colab.kernel.invokeFunction(\n",
              "            'suggestCharts', [key], {});\n",
              "      } catch (error) {\n",
              "        console.error('Error during call to suggestCharts:', error);\n",
              "      }\n",
              "      quickchartButtonEl.classList.remove('colab-df-spinner');\n",
              "      quickchartButtonEl.classList.add('colab-df-quickchart-complete');\n",
              "    }\n",
              "    (() => {\n",
              "      let quickchartButtonEl =\n",
              "        document.querySelector('#df-8b0ddc39-7508-4f5f-aa9b-aba588ead607 button');\n",
              "      quickchartButtonEl.style.display =\n",
              "        google.colab.kernel.accessAllowed ? 'block' : 'none';\n",
              "    })();\n",
              "  </script>\n",
              "</div>\n",
              "    </div>\n",
              "  </div>\n"
            ]
          },
          "metadata": {},
          "execution_count": 33
        }
      ]
    },
    {
      "cell_type": "markdown",
      "source": [
        "C. Crea un modelo de clasificación usando la técnica que prefieras dentro de Sklearn."
      ],
      "metadata": {
        "id": "XMbW9COa_iTu"
      }
    },
    {
      "cell_type": "code",
      "source": [
        "# Comprobamos el número de NAs, si hubiera los eliminaríamos.\n",
        "# Realizar siempre antes de crear un modelo.\n",
        "\n",
        "df.isna().sum()"
      ],
      "metadata": {
        "colab": {
          "base_uri": "https://localhost:8080/"
        },
        "id": "akiHXcTs_hQl",
        "outputId": "3e4f9b62-2687-4a50-9434-72ce8ae64d41"
      },
      "execution_count": 20,
      "outputs": [
        {
          "output_type": "execute_result",
          "data": {
            "text/plain": [
              "mean radius                0\n",
              "mean texture               0\n",
              "mean perimeter             0\n",
              "mean area                  0\n",
              "mean smoothness            0\n",
              "mean compactness           0\n",
              "mean concavity             0\n",
              "mean concave points        0\n",
              "mean symmetry              0\n",
              "mean fractal dimension     0\n",
              "radius error               0\n",
              "texture error              0\n",
              "perimeter error            0\n",
              "area error                 0\n",
              "smoothness error           0\n",
              "compactness error          0\n",
              "concavity error            0\n",
              "concave points error       0\n",
              "symmetry error             0\n",
              "fractal dimension error    0\n",
              "worst radius               0\n",
              "worst texture              0\n",
              "worst perimeter            0\n",
              "worst area                 0\n",
              "worst smoothness           0\n",
              "worst compactness          0\n",
              "worst concavity            0\n",
              "worst concave points       0\n",
              "worst symmetry             0\n",
              "worst fractal dimension    0\n",
              "target                     0\n",
              "dtype: int64"
            ]
          },
          "metadata": {},
          "execution_count": 20
        }
      ]
    },
    {
      "cell_type": "code",
      "source": [
        "# ¿Están las clases balanceadas? Si no lo estuvieran, deberíamos balancearlas.\n",
        "# Realizar siempre antes de crear un modelo.\n",
        "\n",
        "df[\"target\"].value_counts(normalize = True)"
      ],
      "metadata": {
        "colab": {
          "base_uri": "https://localhost:8080/"
        },
        "id": "YUT2QH6CAETN",
        "outputId": "c558694c-a9ba-4c59-e8fb-8fc7a25b7e37"
      },
      "execution_count": 22,
      "outputs": [
        {
          "output_type": "execute_result",
          "data": {
            "text/plain": [
              "1    0.627417\n",
              "0    0.372583\n",
              "Name: target, dtype: float64"
            ]
          },
          "metadata": {},
          "execution_count": 22
        }
      ]
    },
    {
      "cell_type": "code",
      "source": [
        "# Dividir juego de datos en entrenamiento y test\n",
        "# Realizar siempre antes de crear un modelo.\n",
        "\n",
        "X = dataset[\"data\"]\n",
        "y = dataset[\"target\"]\n",
        "\n",
        "X_train, X_test, y_train, y_test = train_test_split(X, y, test_size = 0.25, random_state = 123)"
      ],
      "metadata": {
        "id": "p0P1Pl5uAVO_"
      },
      "execution_count": 23,
      "outputs": []
    },
    {
      "cell_type": "code",
      "source": [
        "# Inicializar modelos\n",
        "\n",
        "# Regresión logística\n",
        "clf_log = LogisticRegression(max_iter=10000, tol=0.1)\n",
        "clf_log.fit(X_train, y_train)\n",
        "\n",
        "# Stochastic Gradient Descendant\n",
        "clf_sgd = SGDClassifier(\n",
        "    loss='hinge', penalty='l2',\n",
        "    alpha=1e-3, random_state=42,\n",
        "    max_iter=5, tol=None)\n",
        "\n",
        "clf_sgd.fit(X_train, y_train)\n",
        "\n",
        "\n",
        "# Siempre empezamos con los modelos más básicos y luego vamos probando nuevos algoritmos\n"
      ],
      "metadata": {
        "colab": {
          "base_uri": "https://localhost:8080/",
          "height": 75
        },
        "id": "ms0SEjc_B_ab",
        "outputId": "4addd8e2-a6be-4049-d01c-4cd614f17cee"
      },
      "execution_count": 30,
      "outputs": [
        {
          "output_type": "execute_result",
          "data": {
            "text/plain": [
              "SGDClassifier(alpha=0.001, max_iter=5, random_state=42, tol=None)"
            ],
            "text/html": [
              "<style>#sk-container-id-1 {color: black;background-color: white;}#sk-container-id-1 pre{padding: 0;}#sk-container-id-1 div.sk-toggleable {background-color: white;}#sk-container-id-1 label.sk-toggleable__label {cursor: pointer;display: block;width: 100%;margin-bottom: 0;padding: 0.3em;box-sizing: border-box;text-align: center;}#sk-container-id-1 label.sk-toggleable__label-arrow:before {content: \"▸\";float: left;margin-right: 0.25em;color: #696969;}#sk-container-id-1 label.sk-toggleable__label-arrow:hover:before {color: black;}#sk-container-id-1 div.sk-estimator:hover label.sk-toggleable__label-arrow:before {color: black;}#sk-container-id-1 div.sk-toggleable__content {max-height: 0;max-width: 0;overflow: hidden;text-align: left;background-color: #f0f8ff;}#sk-container-id-1 div.sk-toggleable__content pre {margin: 0.2em;color: black;border-radius: 0.25em;background-color: #f0f8ff;}#sk-container-id-1 input.sk-toggleable__control:checked~div.sk-toggleable__content {max-height: 200px;max-width: 100%;overflow: auto;}#sk-container-id-1 input.sk-toggleable__control:checked~label.sk-toggleable__label-arrow:before {content: \"▾\";}#sk-container-id-1 div.sk-estimator input.sk-toggleable__control:checked~label.sk-toggleable__label {background-color: #d4ebff;}#sk-container-id-1 div.sk-label input.sk-toggleable__control:checked~label.sk-toggleable__label {background-color: #d4ebff;}#sk-container-id-1 input.sk-hidden--visually {border: 0;clip: rect(1px 1px 1px 1px);clip: rect(1px, 1px, 1px, 1px);height: 1px;margin: -1px;overflow: hidden;padding: 0;position: absolute;width: 1px;}#sk-container-id-1 div.sk-estimator {font-family: monospace;background-color: #f0f8ff;border: 1px dotted black;border-radius: 0.25em;box-sizing: border-box;margin-bottom: 0.5em;}#sk-container-id-1 div.sk-estimator:hover {background-color: #d4ebff;}#sk-container-id-1 div.sk-parallel-item::after {content: \"\";width: 100%;border-bottom: 1px solid gray;flex-grow: 1;}#sk-container-id-1 div.sk-label:hover label.sk-toggleable__label {background-color: #d4ebff;}#sk-container-id-1 div.sk-serial::before {content: \"\";position: absolute;border-left: 1px solid gray;box-sizing: border-box;top: 0;bottom: 0;left: 50%;z-index: 0;}#sk-container-id-1 div.sk-serial {display: flex;flex-direction: column;align-items: center;background-color: white;padding-right: 0.2em;padding-left: 0.2em;position: relative;}#sk-container-id-1 div.sk-item {position: relative;z-index: 1;}#sk-container-id-1 div.sk-parallel {display: flex;align-items: stretch;justify-content: center;background-color: white;position: relative;}#sk-container-id-1 div.sk-item::before, #sk-container-id-1 div.sk-parallel-item::before {content: \"\";position: absolute;border-left: 1px solid gray;box-sizing: border-box;top: 0;bottom: 0;left: 50%;z-index: -1;}#sk-container-id-1 div.sk-parallel-item {display: flex;flex-direction: column;z-index: 1;position: relative;background-color: white;}#sk-container-id-1 div.sk-parallel-item:first-child::after {align-self: flex-end;width: 50%;}#sk-container-id-1 div.sk-parallel-item:last-child::after {align-self: flex-start;width: 50%;}#sk-container-id-1 div.sk-parallel-item:only-child::after {width: 0;}#sk-container-id-1 div.sk-dashed-wrapped {border: 1px dashed gray;margin: 0 0.4em 0.5em 0.4em;box-sizing: border-box;padding-bottom: 0.4em;background-color: white;}#sk-container-id-1 div.sk-label label {font-family: monospace;font-weight: bold;display: inline-block;line-height: 1.2em;}#sk-container-id-1 div.sk-label-container {text-align: center;}#sk-container-id-1 div.sk-container {/* jupyter's `normalize.less` sets `[hidden] { display: none; }` but bootstrap.min.css set `[hidden] { display: none !important; }` so we also need the `!important` here to be able to override the default hidden behavior on the sphinx rendered scikit-learn.org. See: https://github.com/scikit-learn/scikit-learn/issues/21755 */display: inline-block !important;position: relative;}#sk-container-id-1 div.sk-text-repr-fallback {display: none;}</style><div id=\"sk-container-id-1\" class=\"sk-top-container\"><div class=\"sk-text-repr-fallback\"><pre>SGDClassifier(alpha=0.001, max_iter=5, random_state=42, tol=None)</pre><b>In a Jupyter environment, please rerun this cell to show the HTML representation or trust the notebook. <br />On GitHub, the HTML representation is unable to render, please try loading this page with nbviewer.org.</b></div><div class=\"sk-container\" hidden><div class=\"sk-item\"><div class=\"sk-estimator sk-toggleable\"><input class=\"sk-toggleable__control sk-hidden--visually\" id=\"sk-estimator-id-1\" type=\"checkbox\" checked><label for=\"sk-estimator-id-1\" class=\"sk-toggleable__label sk-toggleable__label-arrow\">SGDClassifier</label><div class=\"sk-toggleable__content\"><pre>SGDClassifier(alpha=0.001, max_iter=5, random_state=42, tol=None)</pre></div></div></div></div></div>"
            ]
          },
          "metadata": {},
          "execution_count": 30
        }
      ]
    },
    {
      "cell_type": "markdown",
      "source": [
        "D. Evalúa el modelo."
      ],
      "metadata": {
        "id": "nkw4mxiWB4h4"
      }
    },
    {
      "cell_type": "code",
      "source": [
        "predictions = clf_log.predict(X_test)\n",
        "\n",
        "print(\"Classification report\")\n",
        "print(classification_report(y_test, predictions, target_names=dataset[\"target_names\"]))\n",
        "\n",
        "print(\"Confusion matrix\")\n",
        "print(confusion_matrix(y_test, predictions))"
      ],
      "metadata": {
        "colab": {
          "base_uri": "https://localhost:8080/"
        },
        "id": "_MWeA1_pAoiG",
        "outputId": "72b07aab-9750-4616-b2fd-0e7f1087ddd0"
      },
      "execution_count": 40,
      "outputs": [
        {
          "output_type": "stream",
          "name": "stdout",
          "text": [
            "Classification report\n",
            "              precision    recall  f1-score   support\n",
            "\n",
            "   malignant       1.00      0.96      0.98        54\n",
            "      benign       0.98      1.00      0.99        89\n",
            "\n",
            "    accuracy                           0.99       143\n",
            "   macro avg       0.99      0.98      0.99       143\n",
            "weighted avg       0.99      0.99      0.99       143\n",
            "\n",
            "Confusion matrix\n",
            "[[52  2]\n",
            " [ 0 89]]\n"
          ]
        }
      ]
    },
    {
      "cell_type": "code",
      "source": [
        "predictions = clf_sgd.predict(X_test)\n",
        "\n",
        "print(\"Classification report\")\n",
        "print(classification_report(y_test, predictions, target_names=dataset[\"target_names\"]))\n",
        "\n",
        "print(\"Confusion matrix\")\n",
        "print(confusion_matrix(y_test, predictions))"
      ],
      "metadata": {
        "colab": {
          "base_uri": "https://localhost:8080/"
        },
        "id": "uB5gHZeBBhiL",
        "outputId": "28735a86-001b-411e-f93a-46124048ba5d"
      },
      "execution_count": 41,
      "outputs": [
        {
          "output_type": "stream",
          "name": "stdout",
          "text": [
            "Classification report\n",
            "              precision    recall  f1-score   support\n",
            "\n",
            "   malignant       0.91      0.89      0.90        54\n",
            "      benign       0.93      0.94      0.94        89\n",
            "\n",
            "    accuracy                           0.92       143\n",
            "   macro avg       0.92      0.92      0.92       143\n",
            "weighted avg       0.92      0.92      0.92       143\n",
            "\n",
            "Confusion matrix\n",
            "[[48  6]\n",
            " [ 5 84]]\n"
          ]
        }
      ]
    },
    {
      "cell_type": "markdown",
      "source": [
        "\n",
        "## Resumen del modelo:\n",
        "Estamos prediciendo la probabilidad de que un cancer ser benigno (1) o maligno (0), variable binaria, a partir de una muestra poblacional (n) de 568 tumores y sus propiedades, codificadas en 30 variables numéricas. No existen NAs en el juego de datos.\n",
        "\n",
        "Las clases están ligeramente desbalanceadas, con un 63% de tumores benigno y un 37% de tumores malignos, esto podría llevar a que el modelo sesge su aprendizaje a dar falsos positivos (tumores malignos como beningnos).\n",
        "\n",
        "Hemos entrenado dos modelos de clasificación utilizando dos algoritmos distintos, una Regresión Logística (LR) y un Stochastic Gradient Descendant (SGD), utilizando un 75% de training y un 25% de test del juego de datos.\n",
        "\n",
        "Las métricas del modelo que utilizamos para comparar son el accuracy y el f1-score por categoría. El accuracy de LR es de un 99% y de SGD 92%. Ambos tienen un sesgo a predecir tumores malignos como benignos, prediciendo LR 2 y SGD 6, en cambio LR no predice benigno como malignos, pero SGD si, prediciendo 5.\n",
        "\n",
        "En conclusión, LR tiene una mejor performance que SGD, teniendo un accuracy total del 99%. Recomendaciones para futuros entrenamientos, balancear la clases y aumentar el tamaño de la muestra.\n",
        "\n"
      ],
      "metadata": {
        "id": "ZzZ5LwqRB1w5"
      }
    },
    {
      "cell_type": "markdown",
      "source": [
        "## E4: Crear modelos de clusterización.\n",
        "\n",
        "A. Descarga el fichero de datos Wine Recognition Dataset de sklearn.\n",
        "\n",
        "B. Crear varios modelos de clusterización (K-means, NearestNeighbort, DBSCAN, ...).\n",
        "\n",
        "C. Evalua los clusters de cada modelo.\n",
        "\n",
        "D. Visualiza los clusters de cada modelo.\n",
        "\n",
        "E. Crea modelos de clasificación a partir de los clusters."
      ],
      "metadata": {
        "id": "cPJ3spWjG5K3"
      }
    },
    {
      "cell_type": "code",
      "source": [
        "from sklearn.cluster import KMeans, DBSCAN, AffinityPropagation\n",
        "from sklearn.metrics import (\n",
        "    adjusted_mutual_info_score,\n",
        "    homogeneity_score,\n",
        "    completeness_score,\n",
        "    silhouette_score,\n",
        "    v_measure_score,\n",
        "    adjusted_rand_score\n",
        ")"
      ],
      "metadata": {
        "id": "vdcUowjwG-Uu"
      },
      "execution_count": 82,
      "outputs": []
    },
    {
      "cell_type": "markdown",
      "source": [
        "A. Descarga el fichero de datos Wine Recognition Dataset de sklearn."
      ],
      "metadata": {
        "id": "tBq8EjCBHGPT"
      }
    },
    {
      "cell_type": "code",
      "source": [
        "dataset = sklearn.datasets.load_wine()\n",
        "\n",
        "df = pd.DataFrame(data = dataset['data'], columns = dataset['feature_names'])\n",
        "df[\"target\"] = dataset[\"target\"]\n",
        "\n",
        "# Dataset shape\n",
        "print(df.shape)\n",
        "\n",
        "# Variables\n",
        "print(df.head())\n",
        "\n",
        "# NAs\n",
        "print(df.isna().sum())"
      ],
      "metadata": {
        "colab": {
          "base_uri": "https://localhost:8080/"
        },
        "id": "6V3v-xRHHFpz",
        "outputId": "23b9115e-dab0-4219-a456-525324d92762"
      },
      "execution_count": 56,
      "outputs": [
        {
          "output_type": "stream",
          "name": "stdout",
          "text": [
            "(178, 14)\n",
            "   alcohol  malic_acid   ash  alcalinity_of_ash  magnesium  total_phenols  \\\n",
            "0    14.23        1.71  2.43               15.6      127.0           2.80   \n",
            "1    13.20        1.78  2.14               11.2      100.0           2.65   \n",
            "2    13.16        2.36  2.67               18.6      101.0           2.80   \n",
            "3    14.37        1.95  2.50               16.8      113.0           3.85   \n",
            "4    13.24        2.59  2.87               21.0      118.0           2.80   \n",
            "\n",
            "   flavanoids  nonflavanoid_phenols  proanthocyanins  color_intensity   hue  \\\n",
            "0        3.06                  0.28             2.29             5.64  1.04   \n",
            "1        2.76                  0.26             1.28             4.38  1.05   \n",
            "2        3.24                  0.30             2.81             5.68  1.03   \n",
            "3        3.49                  0.24             2.18             7.80  0.86   \n",
            "4        2.69                  0.39             1.82             4.32  1.04   \n",
            "\n",
            "   od280/od315_of_diluted_wines  proline  target  \n",
            "0                          3.92   1065.0       0  \n",
            "1                          3.40   1050.0       0  \n",
            "2                          3.17   1185.0       0  \n",
            "3                          3.45   1480.0       0  \n",
            "4                          2.93    735.0       0  \n",
            "alcohol                         0\n",
            "malic_acid                      0\n",
            "ash                             0\n",
            "alcalinity_of_ash               0\n",
            "magnesium                       0\n",
            "total_phenols                   0\n",
            "flavanoids                      0\n",
            "nonflavanoid_phenols            0\n",
            "proanthocyanins                 0\n",
            "color_intensity                 0\n",
            "hue                             0\n",
            "od280/od315_of_diluted_wines    0\n",
            "proline                         0\n",
            "target                          0\n",
            "dtype: int64\n"
          ]
        }
      ]
    },
    {
      "cell_type": "markdown",
      "source": [
        "B. Crear varios modelos de clusterización (K-means, NearestNeighbort, DBSCAN, ...).\n"
      ],
      "metadata": {
        "id": "T69b99rAH3zs"
      }
    },
    {
      "cell_type": "code",
      "source": [
        "X = df.iloc[:,0:12]\n",
        "y = df['target']\n",
        "\n",
        "X_train, X_test, y_train, y_test = train_test_split(X, y, test_size = 0.25, random_state = 123)\n",
        "\n",
        "kms = KMeans(n_clusters=3, random_state=0, n_init=\"auto\").fit(X_train)\n",
        "dbs = DBSCAN(eps=3, min_samples=2).fit(X_train)\n",
        "afp = AffinityPropagation(random_state=5).fit(X_train)\n"
      ],
      "metadata": {
        "id": "yaWjM_c5H4gs"
      },
      "execution_count": 95,
      "outputs": []
    },
    {
      "cell_type": "markdown",
      "source": [
        "C. Evalua los clusters de cada modelo.\n"
      ],
      "metadata": {
        "id": "mu81BPr5JQTX"
      }
    },
    {
      "cell_type": "code",
      "source": [
        "labels = kms.labels_\n",
        "print(labels)\n",
        "\n",
        "prediction_train = kms.predict(X_train)\n",
        "prediction_test = kms.predict(X_test)\n",
        "\n",
        "n_clusters_ = len(set(labels)) - (1 if -1 in labels else 0)\n",
        "\n",
        "print(\"Estimated number of clusters: %d\" % n_clusters_)\n",
        "print(f\"Homogeneity: {homogeneity_score(y_train, labels):.3f}\")\n",
        "print(f\"Completeness: {completeness_score(y_train, labels):.3f}\")\n",
        "print(f\"V-measure: {v_measure_score(y_train, labels):.3f}\")\n",
        "print(f\"Adjusted Rand Index: {adjusted_rand_score(y_train, labels):.3f}\")\n",
        "print(\n",
        "    \"Adjusted Mutual Information:\"\n",
        "    f\" {adjusted_mutual_info_score(y_train, labels):.3f}\"\n",
        ")\n",
        "print(f\"Silhouette Coefficient: {silhouette_score(X_train, labels):.3f}\")"
      ],
      "metadata": {
        "colab": {
          "base_uri": "https://localhost:8080/"
        },
        "id": "qKVeJjZ8JPqU",
        "outputId": "63ba9982-55cc-4cb2-ce06-5ccfea4e10b6"
      },
      "execution_count": 96,
      "outputs": [
        {
          "output_type": "stream",
          "name": "stdout",
          "text": [
            "[2 0 0 2 2 0 0 1 2 1 2 0 0 1 2 1 1 0 2 2 1 2 1 2 1 0 1 2 1 1 1 2 2 2 2 2 2\n",
            " 0 0 0 0 2 2 2 0 2 2 0 2 2 0 1 0 0 0 0 2 2 2 2 0 2 0 0 1 1 2 1 2 0 2 2 2 0\n",
            " 1 2 0 0 2 2 0 2 0 2 2 1 2 2 2 2 1 0 2 0 2 2 0 0 2 0 0 0 0 2 0 2 1 1 2 2 1\n",
            " 2 2 2 1 0 2 0 2 1 2 1 0 1 2 0 0 0 1 0 0 0 2]\n",
            "Estimated number of clusters: 3\n",
            "Homogeneity: 0.183\n",
            "Completeness: 0.185\n",
            "V-measure: 0.184\n",
            "Adjusted Rand Index: 0.179\n",
            "Adjusted Mutual Information: 0.172\n",
            "Silhouette Coefficient: 0.436\n"
          ]
        }
      ]
    },
    {
      "cell_type": "code",
      "source": [
        "labels = dbs.labels_\n",
        "print(labels)\n",
        "\n",
        "# Number of clusters in labels, ignoring noise if present.\n",
        "n_clusters_ = len(set(labels)) - (1 if -1 in labels else 0)\n",
        "n_noise_ = list(labels).count(-1)\n",
        "\n",
        "print(\"Estimated number of clusters: %d\" % n_clusters_)\n",
        "print(\"Estimated number of noise points: %d\" % n_noise_)\n",
        "print(f\"Homogeneity: {homogeneity_score(y_train, labels):.3f}\")\n",
        "print(f\"Completeness: {completeness_score(y_train, labels):.3f}\")\n",
        "print(f\"V-measure: {v_measure_score(y_train, labels):.3f}\")\n",
        "print(f\"Adjusted Rand Index: {adjusted_rand_score(y_train, labels):.3f}\")\n",
        "print(\n",
        "    \"Adjusted Mutual Information:\"\n",
        "    f\" {adjusted_mutual_info_score(y_train, labels):.3f}\"\n",
        ")\n",
        "print(f\"Silhouette Coefficient: {silhouette_score(X_train, labels):.3f}\")"
      ],
      "metadata": {
        "colab": {
          "base_uri": "https://localhost:8080/"
        },
        "id": "dAu9IbRtL6nm",
        "outputId": "86935906-a1f4-4972-b0de-84007a2f85ce"
      },
      "execution_count": 97,
      "outputs": [
        {
          "output_type": "stream",
          "name": "stdout",
          "text": [
            "[ 0  1  2  3  4 -1 -1 -1  4  5  4  2  2 -1  6 -1  7  2  4  6 -1 -1  8  6\n",
            "  7 -1 -1  6  5 -1 -1  4 -1 -1  9  4  4  2  2 -1 10 11 -1  6 -1 11 -1 -1\n",
            "  6  4 12  5  2  4  2  2  6  0  4 -1  2  0 -1 10  7 -1  1 -1  9  2 -1  6\n",
            " -1 -1  7  6  2  2 -1  4  2  4  2 -1  6  5  6  0  4  6 -1 -1  6 13  8  4\n",
            " -1 13  3 12 -1  2  2 11 10  6 14 -1  4  6 15  0 -1 -1 -1 10 -1  2  6 -1\n",
            "  6 14  2 -1  6 -1 12  2 15  2 -1  2  4]\n",
            "Estimated number of clusters: 16\n",
            "Estimated number of noise points: 40\n",
            "Homogeneity: 0.488\n",
            "Completeness: 0.231\n",
            "V-measure: 0.313\n",
            "Adjusted Rand Index: 0.105\n",
            "Adjusted Mutual Information: 0.247\n",
            "Silhouette Coefficient: -0.004\n"
          ]
        }
      ]
    },
    {
      "cell_type": "code",
      "source": [
        "labels_afp = afp.labels_\n",
        "print(labels_afp)\n",
        "\n",
        "# Number of clusters in labels, ignoring noise if present.\n",
        "n_clusters_ = len(set(labels_afp)) - (1 if -1 in labels_afp else 0)\n",
        "n_noise_ = list(labels_afp).count(-1)\n",
        "\n",
        "print(\"Estimated number of clusters: %d\" % n_clusters_)\n",
        "print(\"Estimated number of noise points: %d\" % n_noise_)\n",
        "print(f\"Homogeneity: {homogeneity_score(y_train, labels_afp):.3f}\")\n",
        "print(f\"Completeness: {completeness_score(y_train, labels_afp):.3f}\")\n",
        "print(f\"V-measure: {v_measure_score(y_train, labels_afp):.3f}\")\n",
        "print(f\"Adjusted Rand Index: {adjusted_rand_score(y_train, labels_afp):.3f}\")\n",
        "print(\n",
        "    \"Adjusted Mutual Information:\"\n",
        "    f\" {adjusted_mutual_info_score(y_train, labels_afp):.3f}\"\n",
        ")\n",
        "print(f\"Silhouette Coefficient: {silhouette_score(X_train, labels_afp):.3f}\")"
      ],
      "metadata": {
        "colab": {
          "base_uri": "https://localhost:8080/"
        },
        "id": "i3WpGT1OQo0b",
        "outputId": "852d5086-4749-495d-be7c-f0ec6d5b1974"
      },
      "execution_count": 102,
      "outputs": [
        {
          "output_type": "stream",
          "name": "stdout",
          "text": [
            "[6 1 2 1 1 3 3 4 8 4 1 2 2 0 6 0 4 2 1 8 0 6 4 6 0 2 0 8 4 0 4 1 6 8 3 1 1\n",
            " 2 2 9 3 1 8 6 9 1 3 9 8 1 9 4 2 1 2 2 8 8 1 6 2 4 2 3 0 0 1 0 3 2 3 8 8 2\n",
            " 0 6 2 2 8 1 2 1 2 3 6 4 8 4 1 6 5 2 6 2 4 1 9 2 1 9 9 2 2 1 3 6 0 0 1 8 0\n",
            " 4 4 6 7 3 3 2 8 7 8 0 2 7 8 2 9 2 4 2 9 2 1]\n",
            "Estimated number of clusters: 10\n",
            "Estimated number of noise points: 0\n",
            "Homogeneity: 0.475\n",
            "Completeness: 0.239\n",
            "V-measure: 0.318\n",
            "Adjusted Rand Index: 0.204\n",
            "Adjusted Mutual Information: 0.284\n",
            "Silhouette Coefficient: 0.283\n"
          ]
        }
      ]
    },
    {
      "cell_type": "markdown",
      "source": [
        "D. Visualiza los clusters de cada modelo."
      ],
      "metadata": {
        "id": "g8vUryTKMdC8"
      }
    },
    {
      "cell_type": "code",
      "source": [
        "from sklearn.decomposition import PCA\n",
        "import matplotlib.pyplot as plt\n",
        "\n",
        "# Reducimos la dimensionalidad a dos dimensiones para poder visualizar los clusters\n",
        "pca = PCA(n_components=2)\n",
        "PCA_dim = pca.fit_transform(X_train)\n",
        "\n",
        "pca_df = pd.DataFrame(\n",
        "    data = PCA_dim,\n",
        "    columns = ['PC1', 'PC2'])\n",
        "\n",
        "plt.scatter(\n",
        "  pca_df['PC1'],\n",
        "  pca_df['PC2'],\n",
        "  c=prediction_train\n",
        ")\n",
        "\n",
        "plt.title(f\"KMEANS\")\n",
        "plt.show()\n",
        "\n",
        "plt.scatter(\n",
        "  pca_df['PC1'],\n",
        "  pca_df['PC2'],\n",
        "  c=labels\n",
        ")\n",
        "\n",
        "plt.title(f\"DBSCAN\")\n",
        "plt.show()\n",
        "\n",
        "plt.scatter(\n",
        "  pca_df['PC1'],\n",
        "  pca_df['PC2'],\n",
        "  c=labels\n",
        ")\n",
        "\n",
        "plt.title(f\"Affinity Propagation\")\n",
        "plt.show()\n"
      ],
      "metadata": {
        "colab": {
          "base_uri": "https://localhost:8080/",
          "height": 1000
        },
        "id": "ESJqrOMOMeKG",
        "outputId": "66ec0750-51fb-4b36-8627-7d0a5222e7b6"
      },
      "execution_count": 103,
      "outputs": [
        {
          "output_type": "display_data",
          "data": {
            "text/plain": [
              "<Figure size 640x480 with 1 Axes>"
            ],
            "image/png": "[encoded data removed]"
          },
          "metadata": {}
        },
        {
          "output_type": "display_data",
          "data": {
            "text/plain": [
              "<Figure size 640x480 with 1 Axes>"
            ],
            "image/png": "[encoded data removed]"
          },
          "metadata": {}
        },
        {
          "output_type": "display_data",
          "data": {
            "text/plain": [
              "<Figure size 640x480 with 1 Axes>"
            ],
            "image/png": "[encoded data removed]"
          },
          "metadata": {}
        }
      ]
    },
    {
      "cell_type": "markdown",
      "source": [
        "E. Crea modelos de clasificación a partir de los clusters."
      ],
      "metadata": {
        "id": "fRcM5GV-Pyhh"
      }
    },
    {
      "cell_type": "code",
      "source": [
        "clf_log = LogisticRegression(max_iter=10000, tol=0.1)\n",
        "clf_log.fit(X_train, prediction_train)\n",
        "\n",
        "predictions = clf_log.predict(X_test)\n",
        "\n",
        "print(\"Classification report\")\n",
        "print(classification_report(y_test, predictions, target_names=dataset[\"target_names\"]))\n",
        "\n",
        "print(\"Confusion matrix\")\n",
        "print(confusion_matrix(y_test, predictions))"
      ],
      "metadata": {
        "colab": {
          "base_uri": "https://localhost:8080/"
        },
        "id": "EkipKU0DO_hT",
        "outputId": "3f2f8bb0-cd2f-42d2-c182-ea41a0c1b827"
      },
      "execution_count": 99,
      "outputs": [
        {
          "output_type": "stream",
          "name": "stdout",
          "text": [
            "Classification report\n",
            "              precision    recall  f1-score   support\n",
            "\n",
            "     class_0       0.06      0.09      0.07        11\n",
            "     class_1       0.30      0.21      0.25        14\n",
            "     class_2       0.37      0.35      0.36        20\n",
            "\n",
            "    accuracy                           0.24        45\n",
            "   macro avg       0.24      0.22      0.23        45\n",
            "weighted avg       0.27      0.24      0.26        45\n",
            "\n",
            "Confusion matrix\n",
            "[[1 3 7]\n",
            " [6 3 5]\n",
            " [9 4 7]]\n"
          ]
        }
      ]
    },
    {
      "cell_type": "markdown",
      "source": [
        "\n",
        "## Resumen del modelo:\n",
        "Hemos creado tres modelos de clusterización, Kmeans, DBSCAN y Affinity Propagation para agrupar de vinos a partir de características físico-químicas. El juego de datos tiene una muestra (n) de 178 y variables 13 númericas, más una categórica con tres categorías.\n",
        "\n",
        "Hemos evaluado los tres modelos clusterización, al ser algoritmos de aprendizaje no supervisado, es necesario conocer su comportamiento a partir de la experiencia de los datos y de los algoritmos para realizar una buena elección del algoritmo. Para ello hemos calculado distintas métricas para conocer sus comportamientos y hemos visualizado los resultados a partir de dos primeros componentes principales al reducir la dimensionalidad.\n",
        "\n",
        "Hemos construido un modelo de clasificación a partir de los resultados del algortimo Kmeans que parece ser, a primera vista el mejor, aunque no hemos dedicado tiempo a explorar el fine tuning de los otros dos modelos de clusterización. El modelo de clasificación nos da un accuracy del 24% al comparar contra los datos reals de la variable target.\n",
        "\n",
        "\n",
        "\n"
      ],
      "metadata": {
        "id": "E1gc9dOdQd-V"
      }
    },
    {
      "cell_type": "markdown",
      "source": [
        " ## Creación de un juego de datos sintéticos a partir de distribuciones estadísticas\n",
        "\n",
        "El juego de datos se compondrá de las siguientes variables:\n",
        "\n",
        "- Sexo: Categórica\n",
        "- Peso: Numérica\n",
        "- Estatura: Numérica\n",
        "- BMI: Numérica\n",
        "\n",
        "Suposiciones:\n",
        "\n",
        "- El 49,0% del total de inscritos en el Padrón son hombres y el 51,0% mujeres.\n",
        "- La estatura de los hombre sigue una distribución media de 179.3 y una desviación típica 7.0.\n",
        "- La estatura de las mujeres sigue una distribución media de 176.3 y una desviación típica 6.6.\n",
        "- El peso de los hombre sigue una distribución media de 78.9 y una desviación típica 11.8.\n",
        "- El peso de las mujeres sigue una distribución media de 60.4 y una desviación típica 9.7.\n",
        "- BMI = Peso / (Estatura/100)^2\n",
        "\n",
        "Tareas:\n",
        "\n",
        "A. Crea 100.000 individuos y sus variables.\n",
        "\n",
        "B. Clusteriza sus BMIs y explora si existe una relación con:\n",
        "- Bajo peso = menos de 18.5.\n",
        "- Peso normal = 18.5–24.9.\n",
        "- Sobrepeso = 25–29.9.\n",
        "- Obesidad = BMI de 30 ó mayor\n",
        "\n",
        "C. Crea un modelo de regresión que calcule el BMI.\n",
        "\n",
        "D. Crea un modelo de clasificación que indique si una persona tiene sobrepeso o no."
      ],
      "metadata": {
        "id": "GCW8BWn6Sbpx"
      }
    },
    {
      "cell_type": "markdown",
      "source": [
        "A. Crea 100.000 individuos y sus variables."
      ],
      "metadata": {
        "id": "pxoMkiZhS56o"
      }
    },
    {
      "cell_type": "code",
      "source": [
        "n = 10000\n",
        "n_split = 0.51\n",
        "df_m = pd.DataFrame()\n",
        "\n",
        "n_m = int(n*(n_split))\n",
        "df_m['sex'] = [0 for i in range(n_m)]\n",
        "df_m['weight'] = np.random.normal(60.4, 9.7, n_m)\n",
        "df_m['height'] = np.random.normal(176.3, 6.6, n_m)\n",
        "df_m['BMI'] = round(df_m['weight'] / (df_m['height']/100)**2, 1)\n",
        "print(df_m.head())\n",
        "\n",
        "df_h = pd.DataFrame()\n",
        "n_m = int(n*(1-n_split))\n",
        "df_h['sex'] = [1 for i in range(n_m)]\n",
        "df_h['weight'] = np.random.normal(78.9, 11.8, n_m)\n",
        "df_h['height'] = np.random.normal(179.3, 7.0, n_m)\n",
        "df_h['BMI'] = round(df_h['weight'] / (df_h['height']/100)**2, 1)\n",
        "print(df_h.head())\n",
        "\n",
        "df = pd.concat([df_h, df_m], ignore_index=True).sample(frac = 1)\n",
        "print(df.head())\n",
        "print(df.shape)"
      ],
      "metadata": {
        "colab": {
          "base_uri": "https://localhost:8080/"
        },
        "id": "HbXeTBTwSxnP",
        "outputId": "a8ba138c-51dd-49b2-c18f-c5b2421047f3"
      },
      "execution_count": 133,
      "outputs": [
        {
          "output_type": "stream",
          "name": "stdout",
          "text": [
            "   sex     weight      height   BMI\n",
            "0    0  56.191917  180.482213  17.3\n",
            "1    0  45.548215  170.205311  15.7\n",
            "2    0  71.246523  177.196628  22.7\n",
            "3    0  57.628729  172.800607  19.3\n",
            "4    0  68.008899  174.516003  22.3\n",
            "   sex     weight      height   BMI\n",
            "0    1  83.953094  186.223483  24.2\n",
            "1    1  90.574089  186.312166  26.1\n",
            "2    1  77.990088  169.892608  27.0\n",
            "3    1  86.502237  185.435270  25.2\n",
            "4    1  72.996809  174.319903  24.0\n",
            "      sex     weight      height   BMI\n",
            "3090    1  81.089268  181.343063  24.7\n",
            "1916    1  78.180810  187.093592  22.3\n",
            "4941    0  37.506865  172.671342  12.6\n",
            "8781    0  54.978782  164.357821  20.4\n",
            "681     1  82.781139  173.428907  27.5\n",
            "(10000, 4)\n"
          ]
        }
      ]
    },
    {
      "cell_type": "markdown",
      "source": [
        "B. Clusteriza sus BMIs y explora si existe una relación con:\n",
        "- Bajo peso = menos de 18.5.\n",
        "- Peso normal = 18.5–24.9.\n",
        "- Sobrepeso = 25–29.9.\n",
        "- Obesidad = BMI de 30 ó mayor\n"
      ],
      "metadata": {
        "id": "Bq05VkWCV5lA"
      }
    },
    {
      "cell_type": "code",
      "source": [
        "\n",
        "kms = KMeans(n_clusters=4, random_state=0, n_init=\"auto\").fit(df)\n",
        "labels = kms.labels_\n",
        "print(labels)\n",
        "\n",
        "# Number of clusters in labels, ignoring noise if present.\n",
        "n_clusters_ = len(set(labels)) - (1 if -1 in labels else 0)\n",
        "\n",
        "print(\"Estimated number of clusters: %d\" % n_clusters_)\n",
        "print(f\"Silhouette Coefficient: {silhouette_score(X, labels):.3f}\")\n",
        "\n",
        "plt.scatter(\n",
        "  df['weight'],\n",
        "  df['height'],\n",
        "  c=df['sex']\n",
        ")\n",
        "\n",
        "from scipy.stats import pearsonr\n",
        "corr, _ = pearsonr(df['weight'], df['height'])\n",
        "print(corr)\n",
        "\n",
        "plt.title(\"Correlation {} H vs W \".format(round(corr,2)))\n",
        "plt.show()\n",
        "\n",
        "pca = PCA(n_components=2)\n",
        "PCA_dim = pca.fit_transform(df)\n",
        "\n",
        "pca_df = pd.DataFrame(\n",
        "    data = PCA_dim,\n",
        "    columns = ['PC1', 'PC2'])\n",
        "\n",
        "plt.scatter(\n",
        "  pca_df['PC1'],\n",
        "  pca_df['PC2'],\n",
        "  c=labels\n",
        ")\n",
        "\n",
        "plt.title(f\"KMEANS\")\n",
        "plt.show()"
      ],
      "metadata": {
        "colab": {
          "base_uri": "https://localhost:8080/",
          "height": 956
        },
        "id": "auo0XXh0WEGc",
        "outputId": "78afbd93-3a11-4cbd-fa3b-e7fa94de0617"
      },
      "execution_count": 139,
      "outputs": [
        {
          "output_type": "stream",
          "name": "stdout",
          "text": [
            "[0 3 1 ... 1 2 0]\n",
            "Estimated number of clusters: 4\n",
            "Silhouette Coefficient: 0.345\n",
            "0.14863023825403038\n"
          ]
        },
        {
          "output_type": "display_data",
          "data": {
            "text/plain": [
              "<Figure size 640x480 with 1 Axes>"
            ],
            "image/png": "[encoded data removed]"
          },
          "metadata": {}
        },
        {
          "output_type": "display_data",
          "data": {
            "text/plain": [
              "<Figure size 640x480 with 1 Axes>"
            ],
            "image/png": "[encoded data removed]"
          },
          "metadata": {}
        }
      ]
    },
    {
      "cell_type": "markdown",
      "source": [
        "C. Crea un modelo de regresión que calcule el BMI.\n"
      ],
      "metadata": {
        "id": "qvsrjDowWFAu"
      }
    },
    {
      "cell_type": "code",
      "source": [
        "from sklearn.linear_model import LinearRegression\n",
        "from sklearn.metrics import r2_score\n",
        "\n",
        "X = df[['sex','weight','height']]\n",
        "y = df[['BMI']]\n",
        "\n",
        "X_train, X_test, y_train, y_test = train_test_split(X, y, test_size = 0.3, random_state = 123)\n",
        "\n",
        "regr = LinearRegression().fit(X_train, y_train)\n",
        "\n",
        "print(\"Variance explanation R^2 = {}\".format(round(reg.score(X, y),2)))\n",
        "\n",
        "# Make predictions using the testing set\n",
        "y_pred = regr.predict(X_test)\n",
        "\n",
        "# The coefficients\n",
        "print(\"Coefficients: \\n\", regr.coef_)\n",
        "# The mean squared error\n",
        "print(\"Mean squared error: %.2f\" % mean_squared_error(y_test, y_pred))\n",
        "# The coefficient of determination: 1 is perfect prediction\n",
        "print(\"Coefficient of determination: %.2f\" % r2_score(y_test, y_pred))\n",
        "\n",
        "# Plot outputs\n",
        "plt.scatter(y_test, y_pred, color=\"black\")\n",
        "# plt.plot(X_test, y_pred, color=\"blue\", linewidth=3)\n",
        "\n",
        "\n",
        "plt.show()\n"
      ],
      "metadata": {
        "colab": {
          "base_uri": "https://localhost:8080/",
          "height": 517
        },
        "id": "TpO2ViOaWGD_",
        "outputId": "a9c579fd-e2cf-4942-89bc-1bc1d0ee956b"
      },
      "execution_count": 152,
      "outputs": [
        {
          "output_type": "stream",
          "name": "stdout",
          "text": [
            "Variance explanation R^2 = 0.99\n",
            "Coefficients: \n",
            " [[ 0.02685518  0.31644719 -0.25031435]]\n",
            "Mean squared error: 0.13\n",
            "Coefficient of determination: 0.99\n"
          ]
        },
        {
          "output_type": "display_data",
          "data": {
            "text/plain": [
              "<Figure size 640x480 with 1 Axes>"
            ],
            "image/png": "[encoded data removed]"
          },
          "metadata": {}
        }
      ]
    },
    {
      "cell_type": "markdown",
      "source": [
        "D. Crea un modelo de clasificación que indique si una persona tiene sobrepeso o no."
      ],
      "metadata": {
        "id": "jU5-izYTWIDl"
      }
    },
    {
      "cell_type": "code",
      "source": [
        "df['overweight'] = df.apply(lambda x: 1 if x['BMI'] > 25 else 0, axis=1)\n",
        "\n",
        "X = df[['sex','weight','height']]\n",
        "y = df[['overweight']]\n",
        "\n",
        "X_train, X_test, y_train, y_test = train_test_split(X, y, test_size = 0.3, random_state = 123)\n",
        "\n",
        "clf_log = LogisticRegression(max_iter=10000, tol=0.1)\n",
        "clf_log.fit(X_train, y_train)\n",
        "\n",
        "predictions = clf_log.predict(X_test)\n",
        "\n",
        "print(\"Classification report\")\n",
        "print(classification_report(y_test, predictions, target_names=['Fit','Overweight']))\n",
        "\n",
        "print(\"Confusion matrix\")\n",
        "print(confusion_matrix(y_test, predictions))\n"
      ],
      "metadata": {
        "colab": {
          "base_uri": "https://localhost:8080/"
        },
        "id": "j46AjYafWHxu",
        "outputId": "3525931d-5559-4f32-a245-068d7d118e04"
      },
      "execution_count": 160,
      "outputs": [
        {
          "output_type": "stream",
          "name": "stdout",
          "text": [
            "Classification report\n",
            "              precision    recall  f1-score   support\n",
            "\n",
            "         Fit       1.00      1.00      1.00      2233\n",
            "  Overweight       0.99      1.00      0.99       767\n",
            "\n",
            "    accuracy                           1.00      3000\n",
            "   macro avg       1.00      1.00      1.00      3000\n",
            "weighted avg       1.00      1.00      1.00      3000\n",
            "\n",
            "Confusion matrix\n",
            "[[2228    5]\n",
            " [   3  764]]\n"
          ]
        },
        {
          "output_type": "stream",
          "name": "stderr",
          "text": [
            "/usr/local/lib/python3.10/dist-packages/sklearn/utils/validation.py:1143: DataConversionWarning: A column-vector y was passed when a 1d array was expected. Please change the shape of y to (n_samples, ), for example using ravel().\n",
            "  y = column_or_1d(y, warn=True)\n"
          ]
        }
      ]
    }
  ]
}