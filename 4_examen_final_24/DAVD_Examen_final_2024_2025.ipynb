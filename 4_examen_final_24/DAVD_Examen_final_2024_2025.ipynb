{
  "nbformat": 4,
  "nbformat_minor": 0,
  "metadata": {
    "colab": {
      "provenance": []
    },
    "kernelspec": {
      "name": "python3",
      "display_name": "Python 3"
    },
    "language_info": {
      "name": "python"
    }
  },
  "cells": [
    {
      "cell_type": "markdown",
      "source": [
        "# Examen final de Desarrollo de Aplicaciones para la Visualización de Datos\n",
        "\n",
        "Nombre:\n",
        "\n",
        "Apellidos:\n",
        "\n",
        "Tiempo: 2 horas y 30 minutos\n",
        "\n",
        "## Contexto del ejercicio\n",
        "\n",
        "El Ayuntamiento de Madrid desea entender en más detalle la situación del problema habitacional en la ciudad de Madrid basada en múltiples fuentes de datos como alquiler vacacional, evolución del precio de alquiler, inflacción y densidad poblacional.\n",
        "\n",
        "El objetivo del análisis es buscar patrones para entender mejor que está sucediendo, que barrios son los más estresados y que factores son que hacen que el precio de la vivienda esté en máximos. Por lo tanto, se pide:\n",
        "\n",
        "1. Realizar un análisis descriptivo de los datos con al menos 6 visualizaciones diferentes. (3 Puntos)\n",
        "2. Realizar un modelo de regresión lineal que explique (mostrar coeficientes) la dinámica del precio de la vivienda en base a los datos de alquiler vacacional a nivel agregado, no por barrio. (2 Puntos)\n",
        "3. Montar un dashboard con 4 visualizaciones diferentes cómo mínimo. (2 Punto)\n",
        "4. Concluir todo este análisis haciendo un informe con 2 páginas como mínimo que incluya, preguntas que se van a responder, dashboard resumen que sustente las preguntas y recomendaciones para mejorar la situación habitacional a partir de los resultados obtenidos de los análisis realizados con los datos. (3 Puntos)\n",
        "\n",
        "## Juego de datos\n",
        "\n",
        "Para realizar este análisis se provee un juego de datos con las siguientes variables:\n",
        "\n",
        "\n",
        "| **Variable**           | **Descripción**                                                                                     | **Tipo**                 |\n",
        "|-------------------------|-----------------------------------------------------------------------------------------------------|--------------------------|\n",
        "| `neighbourhood_group`   | Grupo de vecindarios o distritos en Madrid.                                                        | Categórica               |\n",
        "| `date`                 | Fecha de la observación en formato `YYYY-MM-DD`.                                                   | Temporal                 |\n",
        "| `m2_price`             | Precio promedio por metro cuadrado en euros.                                                       | Cuantitativa continua     |\n",
        "| `inflation`            | Inflación mensual como porcentaje (incremento en los precios al consumidor).                       | Cuantitativa continua     |\n",
        "| `HICP`                 | Índice armonizado de precios al consumidor (indicador de inflación en la zona euro).               | Cuantitativa continua     |\n",
        "| `population_density`   | Densidad de población anual por km² para toda la Comunidad de Madrid.                                                  | Cuantitativa continua     |\n",
        "| `listings_count`       | Número total de propiedades listadas en Airbnb en un vecindario.                                   | Cuantitativa discreta     |\n",
        "| `minimum_nights`       | Número mínimo de noches requerido para alquilar una propiedad.                                     | Cuantitativa discreta     |\n",
        "| `nigth_price`          | Precio promedio por noche de las propiedades en Airbnb.                                            | Cuantitativa continua     |\n",
        "| `availability_365`     | Número de días al año que una propiedad está disponible para alquilarse.                           | Cuantitativa discreta     |\n",
        "| `listing_reviews`      | Número promedio de reseñas por propiedad listada.                                                 | Cuantitativa continua     |\n",
        "| `number_of_reviews`    | Total acumulado de reseñas para todas las propiedades en un vecindario.                            | Cuantitativa discreta     |\n",
        "| `reviews_per_month`    | Número promedio de reseñas recibidas por una propiedad al mes.                                     | Cuantitativa continua     |\n",
        "| `hosts_count`          | Número de anfitriones activos en un vecindario.                                                   | Cuantitativa discreta     |\n",
        "| `Private_room`         | Número de propiedades que ofrecen habitaciones privadas.                                           | Cuantitativa discreta     |\n",
        "| `Entire_home`          | Número de propiedades que ofrecen viviendas completas.                                             | Cuantitativa discreta     |\n",
        "| `Hotel_room`           | Número de propiedades categorizadas como habitaciones de hotel.                                    | Cuantitativa discreta     |\n",
        "| `Shared_room`          | Número de propiedades que ofrecen habitaciones compartidas.                                        | Cuantitativa discreta     |\n",
        "\n",
        "\n",
        "Ejemplos de preguntas que se pueden realizar a los datos:\n",
        "1. ¿Cuál es el precio promedio del metro cuadrado (m2_price) por neighbourhood_group y cómo ha cambiado con el tiempo (date)?\n",
        "2. ¿Existe una correlación entre el precio por metro cuadrado (m2_price) y la densidad de población (population_density)?\n",
        "3. ¿Qué patrones estacionales se pueden identificar en las reseñas mensuales (reviews_per_month) o en la disponibilidad anual (availability_365)?\n",
        "4. ¿Qué vecindarios tienen el mayor número de anfitriones (hosts_count) y cómo se relaciona con el precio de la vivienda?\n",
        "5. ¿Qué vecindarios muestran el mayor crecimiento en precios (m2_price o nigth_price) entre años (year)?\n",
        "6. ¿Qué factores (e.g., inflation, availability_365, population_density) explican mejor las variaciones en el precio por metro cuadrado (m2_price) o el precio por noche (nigth_price)?\n",
        "\n",
        "Nota:\n",
        "- Puedes hacer group_by para sacar variables agregadas por fecha.\n",
        "- Se valorará la creatividad en las hipótesis, soluciones y limpieza del código y visualizaciones.\n",
        "\n",
        "## Entrega del exámen\n",
        "\n",
        "Compartir Url de github con:\n",
        "- notebook que responde a las preguntas 1, 2 y 3\n",
        "- PDF respondiendo a la pregunta 4\n",
        "\n",
        "Puedes entregar el exámen en el siguiente enlace:\n",
        "\n",
        "https://forms.gle/xe3En2raC3C3UUY39\n"
      ],
      "metadata": {
        "id": "w_CpQoMix4Dl"
      }
    },
    {
      "cell_type": "markdown",
      "source": [
        "# Librerías necesarias"
      ],
      "metadata": {
        "id": "iCSt6SPA_AVZ"
      }
    },
    {
      "cell_type": "code",
      "source": [],
      "metadata": {
        "id": "77t2X1kI9pJ7"
      },
      "execution_count": null,
      "outputs": []
    },
    {
      "cell_type": "markdown",
      "source": [
        "# Análisis descriptivos\n"
      ],
      "metadata": {
        "id": "7w8MTzLu_Rqr"
      }
    },
    {
      "cell_type": "code",
      "source": [],
      "metadata": {
        "id": "PpxnkJLG_VF8"
      },
      "execution_count": null,
      "outputs": []
    }
  ]
}